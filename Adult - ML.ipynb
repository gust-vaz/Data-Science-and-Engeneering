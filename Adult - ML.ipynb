{
 "cells": [
  {
   "cell_type": "markdown",
   "id": "6d80da6e",
   "metadata": {
    "papermill": {
     "duration": 0.009474,
     "end_time": "2024-12-09T13:59:03.142824",
     "exception": false,
     "start_time": "2024-12-09T13:59:03.133350",
     "status": "completed"
    },
    "tags": []
   },
   "source": [
    "# 1 - Libraries and Data Reading"
   ]
  },
  {
   "cell_type": "code",
   "execution_count": 1,
   "id": "c81b291e",
   "metadata": {
    "_cell_guid": "b1076dfc-b9ad-4769-8c92-a6c4dae69d19",
    "_uuid": "8f2839f25d086af736a60e9eeb907d3b93b6e0e5",
    "execution": {
     "iopub.execute_input": "2024-12-09T13:59:03.165015Z",
     "iopub.status.busy": "2024-12-09T13:59:03.163891Z",
     "iopub.status.idle": "2024-12-09T13:59:06.257208Z",
     "shell.execute_reply": "2024-12-09T13:59:06.256377Z"
    },
    "papermill": {
     "duration": 3.105923,
     "end_time": "2024-12-09T13:59:06.259588",
     "exception": false,
     "start_time": "2024-12-09T13:59:03.153665",
     "status": "completed"
    },
    "tags": []
   },
   "outputs": [],
   "source": [
    "# Manipulation\n",
    "import numpy as np\n",
    "import pandas as pd\n",
    "\n",
    "# Visualisation\n",
    "import seaborn as sns\n",
    "import matplotlib.pyplot as plt\n",
    "plt.style.use('ggplot')\n",
    "\n",
    "# Preprocessing\n",
    "from sklearn.preprocessing import LabelEncoder\n",
    "from sklearn.preprocessing import OrdinalEncoder\n",
    "from sklearn.impute import KNNImputer\n",
    "from sklearn.preprocessing import StandardScaler\n",
    "from sklearn.preprocessing import RobustScaler\n",
    "\n",
    "# Training and classification\n",
    "from sklearn.model_selection import train_test_split\n",
    "from scipy.stats import randint\n",
    "from sklearn.model_selection import GridSearchCV\n",
    "from sklearn.model_selection import RandomizedSearchCV\n",
    "# Models\n",
    "from sklearn.svm import SVC\n",
    "from sklearn.ensemble import AdaBoostClassifier\n",
    "from sklearn.tree import DecisionTreeClassifier\n",
    "from sklearn.ensemble import RandomForestClassifier\n",
    "from sklearn.linear_model import LogisticRegression\n",
    "# Metrics\n",
    "from sklearn.metrics import accuracy_score, precision_score, recall_score, f1_score\n",
    "from sklearn.metrics import classification_report, confusion_matrix, ConfusionMatrixDisplay"
   ]
  },
  {
   "cell_type": "code",
   "execution_count": 2,
   "id": "cc31dd58",
   "metadata": {
    "execution": {
     "iopub.execute_input": "2024-12-09T13:59:06.278598Z",
     "iopub.status.busy": "2024-12-09T13:59:06.278035Z",
     "iopub.status.idle": "2024-12-09T13:59:07.183202Z",
     "shell.execute_reply": "2024-12-09T13:59:07.182171Z"
    },
    "papermill": {
     "duration": 0.917336,
     "end_time": "2024-12-09T13:59:07.185616",
     "exception": false,
     "start_time": "2024-12-09T13:59:06.268280",
     "status": "completed"
    },
    "tags": []
   },
   "outputs": [],
   "source": [
    "df_train = pd.read_csv(\"/kaggle/input/adult-pmr3508/train_data.csv\",sep=r'\\s*,\\s*',engine='python',na_values=\"?\")\n",
    "df_test = pd.read_csv(\"/kaggle/input/adult-pmr3508/test_data.csv\",sep=r'\\s*,\\s*',engine='python',na_values=\"?\")"
   ]
  },
  {
   "cell_type": "code",
   "execution_count": 3,
   "id": "26568272",
   "metadata": {
    "execution": {
     "iopub.execute_input": "2024-12-09T13:59:07.205680Z",
     "iopub.status.busy": "2024-12-09T13:59:07.204836Z",
     "iopub.status.idle": "2024-12-09T13:59:07.229635Z",
     "shell.execute_reply": "2024-12-09T13:59:07.228606Z"
    },
    "papermill": {
     "duration": 0.037042,
     "end_time": "2024-12-09T13:59:07.231988",
     "exception": false,
     "start_time": "2024-12-09T13:59:07.194946",
     "status": "completed"
    },
    "tags": []
   },
   "outputs": [
    {
     "data": {
      "text/html": [
       "<div>\n",
       "<style scoped>\n",
       "    .dataframe tbody tr th:only-of-type {\n",
       "        vertical-align: middle;\n",
       "    }\n",
       "\n",
       "    .dataframe tbody tr th {\n",
       "        vertical-align: top;\n",
       "    }\n",
       "\n",
       "    .dataframe thead th {\n",
       "        text-align: right;\n",
       "    }\n",
       "</style>\n",
       "<table border=\"1\" class=\"dataframe\">\n",
       "  <thead>\n",
       "    <tr style=\"text-align: right;\">\n",
       "      <th></th>\n",
       "      <th>Id</th>\n",
       "      <th>age</th>\n",
       "      <th>workclass</th>\n",
       "      <th>fnlwgt</th>\n",
       "      <th>education</th>\n",
       "      <th>education.num</th>\n",
       "      <th>marital.status</th>\n",
       "      <th>occupation</th>\n",
       "      <th>relationship</th>\n",
       "      <th>race</th>\n",
       "      <th>sex</th>\n",
       "      <th>capital.gain</th>\n",
       "      <th>capital.loss</th>\n",
       "      <th>hours.per.week</th>\n",
       "      <th>native.country</th>\n",
       "      <th>income</th>\n",
       "    </tr>\n",
       "  </thead>\n",
       "  <tbody>\n",
       "    <tr>\n",
       "      <th>0</th>\n",
       "      <td>16280</td>\n",
       "      <td>34</td>\n",
       "      <td>Private</td>\n",
       "      <td>204991</td>\n",
       "      <td>Some-college</td>\n",
       "      <td>10</td>\n",
       "      <td>Divorced</td>\n",
       "      <td>Exec-managerial</td>\n",
       "      <td>Own-child</td>\n",
       "      <td>White</td>\n",
       "      <td>Male</td>\n",
       "      <td>0</td>\n",
       "      <td>0</td>\n",
       "      <td>44</td>\n",
       "      <td>United-States</td>\n",
       "      <td>&lt;=50K</td>\n",
       "    </tr>\n",
       "    <tr>\n",
       "      <th>1</th>\n",
       "      <td>16281</td>\n",
       "      <td>58</td>\n",
       "      <td>Local-gov</td>\n",
       "      <td>310085</td>\n",
       "      <td>10th</td>\n",
       "      <td>6</td>\n",
       "      <td>Married-civ-spouse</td>\n",
       "      <td>Transport-moving</td>\n",
       "      <td>Husband</td>\n",
       "      <td>White</td>\n",
       "      <td>Male</td>\n",
       "      <td>0</td>\n",
       "      <td>0</td>\n",
       "      <td>40</td>\n",
       "      <td>United-States</td>\n",
       "      <td>&lt;=50K</td>\n",
       "    </tr>\n",
       "    <tr>\n",
       "      <th>2</th>\n",
       "      <td>16282</td>\n",
       "      <td>25</td>\n",
       "      <td>Private</td>\n",
       "      <td>146117</td>\n",
       "      <td>Some-college</td>\n",
       "      <td>10</td>\n",
       "      <td>Never-married</td>\n",
       "      <td>Machine-op-inspct</td>\n",
       "      <td>Not-in-family</td>\n",
       "      <td>White</td>\n",
       "      <td>Male</td>\n",
       "      <td>0</td>\n",
       "      <td>0</td>\n",
       "      <td>42</td>\n",
       "      <td>United-States</td>\n",
       "      <td>&lt;=50K</td>\n",
       "    </tr>\n",
       "    <tr>\n",
       "      <th>3</th>\n",
       "      <td>16283</td>\n",
       "      <td>24</td>\n",
       "      <td>Private</td>\n",
       "      <td>138938</td>\n",
       "      <td>Some-college</td>\n",
       "      <td>10</td>\n",
       "      <td>Divorced</td>\n",
       "      <td>Adm-clerical</td>\n",
       "      <td>Not-in-family</td>\n",
       "      <td>White</td>\n",
       "      <td>Female</td>\n",
       "      <td>0</td>\n",
       "      <td>0</td>\n",
       "      <td>40</td>\n",
       "      <td>United-States</td>\n",
       "      <td>&lt;=50K</td>\n",
       "    </tr>\n",
       "    <tr>\n",
       "      <th>4</th>\n",
       "      <td>16284</td>\n",
       "      <td>57</td>\n",
       "      <td>Self-emp-inc</td>\n",
       "      <td>258883</td>\n",
       "      <td>HS-grad</td>\n",
       "      <td>9</td>\n",
       "      <td>Married-civ-spouse</td>\n",
       "      <td>Transport-moving</td>\n",
       "      <td>Husband</td>\n",
       "      <td>White</td>\n",
       "      <td>Male</td>\n",
       "      <td>5178</td>\n",
       "      <td>0</td>\n",
       "      <td>60</td>\n",
       "      <td>Hungary</td>\n",
       "      <td>&gt;50K</td>\n",
       "    </tr>\n",
       "  </tbody>\n",
       "</table>\n",
       "</div>"
      ],
      "text/plain": [
       "      Id  age     workclass  fnlwgt     education  education.num  \\\n",
       "0  16280   34       Private  204991  Some-college             10   \n",
       "1  16281   58     Local-gov  310085          10th              6   \n",
       "2  16282   25       Private  146117  Some-college             10   \n",
       "3  16283   24       Private  138938  Some-college             10   \n",
       "4  16284   57  Self-emp-inc  258883       HS-grad              9   \n",
       "\n",
       "       marital.status         occupation   relationship   race     sex  \\\n",
       "0            Divorced    Exec-managerial      Own-child  White    Male   \n",
       "1  Married-civ-spouse   Transport-moving        Husband  White    Male   \n",
       "2       Never-married  Machine-op-inspct  Not-in-family  White    Male   \n",
       "3            Divorced       Adm-clerical  Not-in-family  White  Female   \n",
       "4  Married-civ-spouse   Transport-moving        Husband  White    Male   \n",
       "\n",
       "   capital.gain  capital.loss  hours.per.week native.country income  \n",
       "0             0             0              44  United-States  <=50K  \n",
       "1             0             0              40  United-States  <=50K  \n",
       "2             0             0              42  United-States  <=50K  \n",
       "3             0             0              40  United-States  <=50K  \n",
       "4          5178             0              60        Hungary   >50K  "
      ]
     },
     "execution_count": 3,
     "metadata": {},
     "output_type": "execute_result"
    }
   ],
   "source": [
    "df_train.head()"
   ]
  },
  {
   "cell_type": "code",
   "execution_count": 4,
   "id": "c304746d",
   "metadata": {
    "execution": {
     "iopub.execute_input": "2024-12-09T13:59:07.251979Z",
     "iopub.status.busy": "2024-12-09T13:59:07.251611Z",
     "iopub.status.idle": "2024-12-09T13:59:07.288451Z",
     "shell.execute_reply": "2024-12-09T13:59:07.287134Z"
    },
    "papermill": {
     "duration": 0.049376,
     "end_time": "2024-12-09T13:59:07.290678",
     "exception": false,
     "start_time": "2024-12-09T13:59:07.241302",
     "status": "completed"
    },
    "tags": []
   },
   "outputs": [
    {
     "data": {
      "text/html": [
       "<div>\n",
       "<style scoped>\n",
       "    .dataframe tbody tr th:only-of-type {\n",
       "        vertical-align: middle;\n",
       "    }\n",
       "\n",
       "    .dataframe tbody tr th {\n",
       "        vertical-align: top;\n",
       "    }\n",
       "\n",
       "    .dataframe thead th {\n",
       "        text-align: right;\n",
       "    }\n",
       "</style>\n",
       "<table border=\"1\" class=\"dataframe\">\n",
       "  <thead>\n",
       "    <tr style=\"text-align: right;\">\n",
       "      <th></th>\n",
       "      <th>Id</th>\n",
       "      <th>age</th>\n",
       "      <th>fnlwgt</th>\n",
       "      <th>education.num</th>\n",
       "      <th>capital.gain</th>\n",
       "      <th>capital.loss</th>\n",
       "      <th>hours.per.week</th>\n",
       "    </tr>\n",
       "  </thead>\n",
       "  <tbody>\n",
       "    <tr>\n",
       "      <th>count</th>\n",
       "      <td>32560.000000</td>\n",
       "      <td>32560.000000</td>\n",
       "      <td>3.256000e+04</td>\n",
       "      <td>32560.000000</td>\n",
       "      <td>32560.000000</td>\n",
       "      <td>32560.000000</td>\n",
       "      <td>32560.000000</td>\n",
       "    </tr>\n",
       "    <tr>\n",
       "      <th>mean</th>\n",
       "      <td>32559.500000</td>\n",
       "      <td>38.581634</td>\n",
       "      <td>1.897818e+05</td>\n",
       "      <td>10.080590</td>\n",
       "      <td>1077.615172</td>\n",
       "      <td>87.306511</td>\n",
       "      <td>40.437469</td>\n",
       "    </tr>\n",
       "    <tr>\n",
       "      <th>std</th>\n",
       "      <td>9399.406719</td>\n",
       "      <td>13.640642</td>\n",
       "      <td>1.055498e+05</td>\n",
       "      <td>2.572709</td>\n",
       "      <td>7385.402999</td>\n",
       "      <td>402.966116</td>\n",
       "      <td>12.347618</td>\n",
       "    </tr>\n",
       "    <tr>\n",
       "      <th>min</th>\n",
       "      <td>16280.000000</td>\n",
       "      <td>17.000000</td>\n",
       "      <td>1.228500e+04</td>\n",
       "      <td>1.000000</td>\n",
       "      <td>0.000000</td>\n",
       "      <td>0.000000</td>\n",
       "      <td>1.000000</td>\n",
       "    </tr>\n",
       "    <tr>\n",
       "      <th>25%</th>\n",
       "      <td>24419.750000</td>\n",
       "      <td>28.000000</td>\n",
       "      <td>1.178315e+05</td>\n",
       "      <td>9.000000</td>\n",
       "      <td>0.000000</td>\n",
       "      <td>0.000000</td>\n",
       "      <td>40.000000</td>\n",
       "    </tr>\n",
       "    <tr>\n",
       "      <th>50%</th>\n",
       "      <td>32559.500000</td>\n",
       "      <td>37.000000</td>\n",
       "      <td>1.783630e+05</td>\n",
       "      <td>10.000000</td>\n",
       "      <td>0.000000</td>\n",
       "      <td>0.000000</td>\n",
       "      <td>40.000000</td>\n",
       "    </tr>\n",
       "    <tr>\n",
       "      <th>75%</th>\n",
       "      <td>40699.250000</td>\n",
       "      <td>48.000000</td>\n",
       "      <td>2.370545e+05</td>\n",
       "      <td>12.000000</td>\n",
       "      <td>0.000000</td>\n",
       "      <td>0.000000</td>\n",
       "      <td>45.000000</td>\n",
       "    </tr>\n",
       "    <tr>\n",
       "      <th>max</th>\n",
       "      <td>48839.000000</td>\n",
       "      <td>90.000000</td>\n",
       "      <td>1.484705e+06</td>\n",
       "      <td>16.000000</td>\n",
       "      <td>99999.000000</td>\n",
       "      <td>4356.000000</td>\n",
       "      <td>99.000000</td>\n",
       "    </tr>\n",
       "  </tbody>\n",
       "</table>\n",
       "</div>"
      ],
      "text/plain": [
       "                 Id           age        fnlwgt  education.num  capital.gain  \\\n",
       "count  32560.000000  32560.000000  3.256000e+04   32560.000000  32560.000000   \n",
       "mean   32559.500000     38.581634  1.897818e+05      10.080590   1077.615172   \n",
       "std     9399.406719     13.640642  1.055498e+05       2.572709   7385.402999   \n",
       "min    16280.000000     17.000000  1.228500e+04       1.000000      0.000000   \n",
       "25%    24419.750000     28.000000  1.178315e+05       9.000000      0.000000   \n",
       "50%    32559.500000     37.000000  1.783630e+05      10.000000      0.000000   \n",
       "75%    40699.250000     48.000000  2.370545e+05      12.000000      0.000000   \n",
       "max    48839.000000     90.000000  1.484705e+06      16.000000  99999.000000   \n",
       "\n",
       "       capital.loss  hours.per.week  \n",
       "count  32560.000000    32560.000000  \n",
       "mean      87.306511       40.437469  \n",
       "std      402.966116       12.347618  \n",
       "min        0.000000        1.000000  \n",
       "25%        0.000000       40.000000  \n",
       "50%        0.000000       40.000000  \n",
       "75%        0.000000       45.000000  \n",
       "max     4356.000000       99.000000  "
      ]
     },
     "execution_count": 4,
     "metadata": {},
     "output_type": "execute_result"
    }
   ],
   "source": [
    "df_train.describe()"
   ]
  },
  {
   "cell_type": "code",
   "execution_count": 5,
   "id": "4d3d9f84",
   "metadata": {
    "execution": {
     "iopub.execute_input": "2024-12-09T13:59:07.310784Z",
     "iopub.status.busy": "2024-12-09T13:59:07.310416Z",
     "iopub.status.idle": "2024-12-09T13:59:07.371951Z",
     "shell.execute_reply": "2024-12-09T13:59:07.370858Z"
    },
    "papermill": {
     "duration": 0.074426,
     "end_time": "2024-12-09T13:59:07.374488",
     "exception": false,
     "start_time": "2024-12-09T13:59:07.300062",
     "status": "completed"
    },
    "tags": []
   },
   "outputs": [
    {
     "name": "stdout",
     "output_type": "stream",
     "text": [
      "<class 'pandas.core.frame.DataFrame'>\n",
      "RangeIndex: 32560 entries, 0 to 32559\n",
      "Data columns (total 16 columns):\n",
      " #   Column          Non-Null Count  Dtype \n",
      "---  ------          --------------  ----- \n",
      " 0   Id              32560 non-null  int64 \n",
      " 1   age             32560 non-null  int64 \n",
      " 2   workclass       30724 non-null  object\n",
      " 3   fnlwgt          32560 non-null  int64 \n",
      " 4   education       32560 non-null  object\n",
      " 5   education.num   32560 non-null  int64 \n",
      " 6   marital.status  32560 non-null  object\n",
      " 7   occupation      30717 non-null  object\n",
      " 8   relationship    32560 non-null  object\n",
      " 9   race            32560 non-null  object\n",
      " 10  sex             32560 non-null  object\n",
      " 11  capital.gain    32560 non-null  int64 \n",
      " 12  capital.loss    32560 non-null  int64 \n",
      " 13  hours.per.week  32560 non-null  int64 \n",
      " 14  native.country  31977 non-null  object\n",
      " 15  income          32560 non-null  object\n",
      "dtypes: int64(7), object(9)\n",
      "memory usage: 4.0+ MB\n",
      "None \n",
      "\n",
      "\u001b[91mMissing values no dataset de treino:\u001b[0m\n",
      "workclass         1836\n",
      "occupation        1843\n",
      "native.country     583\n",
      "dtype: int64\n"
     ]
    }
   ],
   "source": [
    "print(df_train.info(), \"\\n\")\n",
    "null_columns = df_train.columns[df_train.isnull().any()]\n",
    "null_counts = df_train[null_columns].isnull().sum()\n",
    "print(\"\\033[91mMissing values no dataset de treino:\\033[0m\")\n",
    "print(null_counts)"
   ]
  },
  {
   "cell_type": "code",
   "execution_count": 6,
   "id": "04ab5a4b",
   "metadata": {
    "execution": {
     "iopub.execute_input": "2024-12-09T13:59:07.394459Z",
     "iopub.status.busy": "2024-12-09T13:59:07.394040Z",
     "iopub.status.idle": "2024-12-09T13:59:07.411876Z",
     "shell.execute_reply": "2024-12-09T13:59:07.410856Z"
    },
    "papermill": {
     "duration": 0.030045,
     "end_time": "2024-12-09T13:59:07.413751",
     "exception": false,
     "start_time": "2024-12-09T13:59:07.383706",
     "status": "completed"
    },
    "tags": []
   },
   "outputs": [
    {
     "name": "stdout",
     "output_type": "stream",
     "text": [
      "\u001b[91mMissing values no dataset de teste:\u001b[0m\n",
      "workclass         963\n",
      "occupation        966\n",
      "native.country    274\n",
      "dtype: int64\n"
     ]
    }
   ],
   "source": [
    "null_columns = df_test.columns[df_test.isnull().any()]\n",
    "null_counts = df_test[null_columns].isnull().sum()\n",
    "print(\"\\033[91mMissing values no dataset de teste:\\033[0m\")\n",
    "print(null_counts)"
   ]
  },
  {
   "cell_type": "markdown",
   "id": "409add07",
   "metadata": {
    "papermill": {
     "duration": 0.008776,
     "end_time": "2024-12-09T13:59:07.449983",
     "exception": false,
     "start_time": "2024-12-09T13:59:07.441207",
     "status": "completed"
    },
    "tags": []
   },
   "source": [
    "# 2 - Preparation and Cleaning"
   ]
  },
  {
   "cell_type": "code",
   "execution_count": 7,
   "id": "e725a5f0",
   "metadata": {
    "execution": {
     "iopub.execute_input": "2024-12-09T13:59:07.505636Z",
     "iopub.status.busy": "2024-12-09T13:59:07.505246Z",
     "iopub.status.idle": "2024-12-09T13:59:07.514419Z",
     "shell.execute_reply": "2024-12-09T13:59:07.513396Z"
    },
    "papermill": {
     "duration": 0.022165,
     "end_time": "2024-12-09T13:59:07.516765",
     "exception": false,
     "start_time": "2024-12-09T13:59:07.494600",
     "status": "completed"
    },
    "tags": []
   },
   "outputs": [],
   "source": [
    "X_all = df_train.drop(['Id','education','relationship'],axis=1)\n",
    "X_test = df_test.drop(['Id','education','relationship'],axis=1)\n",
    "ids = df_test['Id']"
   ]
  },
  {
   "cell_type": "code",
   "execution_count": 8,
   "id": "d89b4b7a",
   "metadata": {
    "execution": {
     "iopub.execute_input": "2024-12-09T13:59:07.574426Z",
     "iopub.status.busy": "2024-12-09T13:59:07.574032Z",
     "iopub.status.idle": "2024-12-09T13:59:16.617076Z",
     "shell.execute_reply": "2024-12-09T13:59:16.616072Z"
    },
    "papermill": {
     "duration": 9.056311,
     "end_time": "2024-12-09T13:59:16.619810",
     "exception": false,
     "start_time": "2024-12-09T13:59:07.563499",
     "status": "completed"
    },
    "tags": []
   },
   "outputs": [
    {
     "name": "stdout",
     "output_type": "stream",
     "text": [
      "occupation        0\n",
      "workclass         0\n",
      "native.country    0\n",
      "dtype: int64\n",
      "occupation        0\n",
      "workclass         0\n",
      "native.country    0\n",
      "dtype: int64\n"
     ]
    }
   ],
   "source": [
    "# Encode categorical variables\n",
    "missing_columns = ['occupation', 'workclass', 'native.country']\n",
    "encoder = OrdinalEncoder()\n",
    "X_all[missing_columns] = encoder.fit_transform(X_all[missing_columns])\n",
    "X_test[missing_columns] = encoder.transform(X_test[missing_columns])\n",
    "\n",
    "# Find the nearest neighbors and impute the missing values\n",
    "imputer = KNNImputer(n_neighbors=5)\n",
    "X_all[missing_columns] = imputer.fit_transform(X_all[missing_columns])\n",
    "X_test[missing_columns] = imputer.transform(X_test[missing_columns])\n",
    "\n",
    "# Decode categorical variables back to original categories\n",
    "X_all[missing_columns] = encoder.inverse_transform(X_all[missing_columns])\n",
    "X_test[missing_columns] = encoder.inverse_transform(X_test[missing_columns])\n",
    "\n",
    "# Verify the imputation\n",
    "print(X_all[missing_columns].isnull().sum())\n",
    "print(X_test[missing_columns].isnull().sum())"
   ]
  },
  {
   "cell_type": "code",
   "execution_count": 9,
   "id": "95a2b361",
   "metadata": {
    "execution": {
     "iopub.execute_input": "2024-12-09T13:59:16.685427Z",
     "iopub.status.busy": "2024-12-09T13:59:16.684910Z",
     "iopub.status.idle": "2024-12-09T13:59:16.697427Z",
     "shell.execute_reply": "2024-12-09T13:59:16.696377Z"
    },
    "papermill": {
     "duration": 0.02642,
     "end_time": "2024-12-09T13:59:16.700157",
     "exception": false,
     "start_time": "2024-12-09T13:59:16.673737",
     "status": "completed"
    },
    "tags": []
   },
   "outputs": [],
   "source": [
    "casados = ['Married-civ-spouse', 'Married-AF-spouse']\n",
    "\n",
    "X_all['marital.status'] = np.where(X_all['marital.status'].isin(casados), 1, 0)\n",
    "X_test['marital.status'] = np.where(X_test['marital.status'].isin(casados), 1, 0)"
   ]
  },
  {
   "cell_type": "code",
   "execution_count": 10,
   "id": "cedbc12b",
   "metadata": {
    "execution": {
     "iopub.execute_input": "2024-12-09T13:59:16.747018Z",
     "iopub.status.busy": "2024-12-09T13:59:16.746652Z",
     "iopub.status.idle": "2024-12-09T13:59:16.756465Z",
     "shell.execute_reply": "2024-12-09T13:59:16.755497Z"
    },
    "papermill": {
     "duration": 0.022316,
     "end_time": "2024-12-09T13:59:16.758506",
     "exception": false,
     "start_time": "2024-12-09T13:59:16.736190",
     "status": "completed"
    },
    "tags": []
   },
   "outputs": [],
   "source": [
    "countries = ['United-States','Mexico']\n",
    "\n",
    "X_all['native.country'] = np.where(~X_all['native.country'].isin(countries), 'Other', X_all['native.country'])\n",
    "X_test['native.country'] = np.where(~X_test['native.country'].isin(countries), 'Other', X_test['native.country'])"
   ]
  },
  {
   "cell_type": "code",
   "execution_count": 11,
   "id": "630068cc",
   "metadata": {
    "execution": {
     "iopub.execute_input": "2024-12-09T13:59:16.798117Z",
     "iopub.status.busy": "2024-12-09T13:59:16.796994Z",
     "iopub.status.idle": "2024-12-09T13:59:16.818063Z",
     "shell.execute_reply": "2024-12-09T13:59:16.817022Z"
    },
    "papermill": {
     "duration": 0.034705,
     "end_time": "2024-12-09T13:59:16.821087",
     "exception": false,
     "start_time": "2024-12-09T13:59:16.786382",
     "status": "completed"
    },
    "tags": []
   },
   "outputs": [],
   "source": [
    "to_scale_standard = ['age', 'fnlwgt', 'education.num','hours.per.week','capital.gain','capital.loss']\n",
    "X_all[to_scale_standard] = StandardScaler().fit_transform(X_all[to_scale_standard])\n",
    "X_test[to_scale_standard] = StandardScaler().fit_transform(X_test[to_scale_standard])"
   ]
  },
  {
   "cell_type": "code",
   "execution_count": 12,
   "id": "e1cda560",
   "metadata": {
    "execution": {
     "iopub.execute_input": "2024-12-09T13:59:16.868211Z",
     "iopub.status.busy": "2024-12-09T13:59:16.867812Z",
     "iopub.status.idle": "2024-12-09T13:59:16.918996Z",
     "shell.execute_reply": "2024-12-09T13:59:16.918145Z"
    },
    "papermill": {
     "duration": 0.06425,
     "end_time": "2024-12-09T13:59:16.921228",
     "exception": false,
     "start_time": "2024-12-09T13:59:16.856978",
     "status": "completed"
    },
    "tags": []
   },
   "outputs": [],
   "source": [
    "X_all['income'] = np.where(X_all['income'] == '>50K', 1, 0)\n",
    "X_all['sex'] = LabelEncoder().fit_transform(X_all['sex'].astype(str))\n",
    "X_test['sex'] = LabelEncoder().fit_transform(X_test['sex'].astype(str))\n",
    "\n",
    "categorical_cols = ['workclass', 'occupation', 'native.country', 'race']\n",
    "X_all = pd.get_dummies(X_all, columns=categorical_cols)\n",
    "X_test = pd.get_dummies(X_test, columns=categorical_cols)"
   ]
  },
  {
   "cell_type": "code",
   "execution_count": 13,
   "id": "b5c53d74",
   "metadata": {
    "execution": {
     "iopub.execute_input": "2024-12-09T13:59:16.941942Z",
     "iopub.status.busy": "2024-12-09T13:59:16.941204Z",
     "iopub.status.idle": "2024-12-09T13:59:16.955629Z",
     "shell.execute_reply": "2024-12-09T13:59:16.954716Z"
    },
    "papermill": {
     "duration": 0.027111,
     "end_time": "2024-12-09T13:59:16.957904",
     "exception": false,
     "start_time": "2024-12-09T13:59:16.930793",
     "status": "completed"
    },
    "tags": []
   },
   "outputs": [
    {
     "name": "stdout",
     "output_type": "stream",
     "text": [
      "<class 'pandas.core.frame.DataFrame'>\n",
      "RangeIndex: 32560 entries, 0 to 32559\n",
      "Data columns (total 39 columns):\n",
      " #   Column                        Non-Null Count  Dtype  \n",
      "---  ------                        --------------  -----  \n",
      " 0   age                           32560 non-null  float64\n",
      " 1   fnlwgt                        32560 non-null  float64\n",
      " 2   education.num                 32560 non-null  float64\n",
      " 3   marital.status                32560 non-null  int64  \n",
      " 4   sex                           32560 non-null  int64  \n",
      " 5   capital.gain                  32560 non-null  float64\n",
      " 6   capital.loss                  32560 non-null  float64\n",
      " 7   hours.per.week                32560 non-null  float64\n",
      " 8   income                        32560 non-null  int64  \n",
      " 9   workclass_Federal-gov         32560 non-null  bool   \n",
      " 10  workclass_Local-gov           32560 non-null  bool   \n",
      " 11  workclass_Never-worked        32560 non-null  bool   \n",
      " 12  workclass_Private             32560 non-null  bool   \n",
      " 13  workclass_Self-emp-inc        32560 non-null  bool   \n",
      " 14  workclass_Self-emp-not-inc    32560 non-null  bool   \n",
      " 15  workclass_State-gov           32560 non-null  bool   \n",
      " 16  workclass_Without-pay         32560 non-null  bool   \n",
      " 17  occupation_Adm-clerical       32560 non-null  bool   \n",
      " 18  occupation_Armed-Forces       32560 non-null  bool   \n",
      " 19  occupation_Craft-repair       32560 non-null  bool   \n",
      " 20  occupation_Exec-managerial    32560 non-null  bool   \n",
      " 21  occupation_Farming-fishing    32560 non-null  bool   \n",
      " 22  occupation_Handlers-cleaners  32560 non-null  bool   \n",
      " 23  occupation_Machine-op-inspct  32560 non-null  bool   \n",
      " 24  occupation_Other-service      32560 non-null  bool   \n",
      " 25  occupation_Priv-house-serv    32560 non-null  bool   \n",
      " 26  occupation_Prof-specialty     32560 non-null  bool   \n",
      " 27  occupation_Protective-serv    32560 non-null  bool   \n",
      " 28  occupation_Sales              32560 non-null  bool   \n",
      " 29  occupation_Tech-support       32560 non-null  bool   \n",
      " 30  occupation_Transport-moving   32560 non-null  bool   \n",
      " 31  native.country_Mexico         32560 non-null  bool   \n",
      " 32  native.country_Other          32560 non-null  bool   \n",
      " 33  native.country_United-States  32560 non-null  bool   \n",
      " 34  race_Amer-Indian-Eskimo       32560 non-null  bool   \n",
      " 35  race_Asian-Pac-Islander       32560 non-null  bool   \n",
      " 36  race_Black                    32560 non-null  bool   \n",
      " 37  race_Other                    32560 non-null  bool   \n",
      " 38  race_White                    32560 non-null  bool   \n",
      "dtypes: bool(30), float64(6), int64(3)\n",
      "memory usage: 3.2 MB\n"
     ]
    }
   ],
   "source": [
    "X_all.info()"
   ]
  },
  {
   "cell_type": "markdown",
   "id": "2c401f74",
   "metadata": {
    "papermill": {
     "duration": 0.009163,
     "end_time": "2024-12-09T13:59:16.977268",
     "exception": false,
     "start_time": "2024-12-09T13:59:16.968105",
     "status": "completed"
    },
    "tags": []
   },
   "source": [
    "# 3 - Modeling"
   ]
  },
  {
   "cell_type": "markdown",
   "id": "598f6d21",
   "metadata": {
    "papermill": {
     "duration": 0.009122,
     "end_time": "2024-12-09T13:59:16.995745",
     "exception": false,
     "start_time": "2024-12-09T13:59:16.986623",
     "status": "completed"
    },
    "tags": []
   },
   "source": [
    "Separation of data into target and input"
   ]
  },
  {
   "cell_type": "code",
   "execution_count": 14,
   "id": "9ec436d4",
   "metadata": {
    "execution": {
     "iopub.execute_input": "2024-12-09T13:59:17.017433Z",
     "iopub.status.busy": "2024-12-09T13:59:17.016558Z",
     "iopub.status.idle": "2024-12-09T13:59:17.031970Z",
     "shell.execute_reply": "2024-12-09T13:59:17.030993Z"
    },
    "papermill": {
     "duration": 0.02886,
     "end_time": "2024-12-09T13:59:17.034437",
     "exception": false,
     "start_time": "2024-12-09T13:59:17.005577",
     "status": "completed"
    },
    "tags": []
   },
   "outputs": [],
   "source": [
    "y_all = X_all['income']\n",
    "X_all = X_all.drop('income',axis=1)\n",
    "\n",
    "X_train, X_val, y_train, y_val = train_test_split(X_all, y_all, test_size=0.2, random_state=42)"
   ]
  },
  {
   "cell_type": "markdown",
   "id": "6b9a1db2",
   "metadata": {
    "papermill": {
     "duration": 0.009384,
     "end_time": "2024-12-09T13:59:17.053379",
     "exception": false,
     "start_time": "2024-12-09T13:59:17.043995",
     "status": "completed"
    },
    "tags": []
   },
   "source": [
    "## Hyperparameter Search"
   ]
  },
  {
   "cell_type": "markdown",
   "id": "6e837475",
   "metadata": {
    "papermill": {
     "duration": 0.00904,
     "end_time": "2024-12-09T13:59:17.071820",
     "exception": false,
     "start_time": "2024-12-09T13:59:17.062780",
     "status": "completed"
    },
    "tags": []
   },
   "source": [
    "### Logistic Regression"
   ]
  },
  {
   "cell_type": "code",
   "execution_count": 15,
   "id": "1e72d529",
   "metadata": {
    "execution": {
     "iopub.execute_input": "2024-12-09T13:59:17.092178Z",
     "iopub.status.busy": "2024-12-09T13:59:17.091797Z",
     "iopub.status.idle": "2024-12-09T14:00:17.553637Z",
     "shell.execute_reply": "2024-12-09T14:00:17.552400Z"
    },
    "papermill": {
     "duration": 60.474912,
     "end_time": "2024-12-09T14:00:17.556129",
     "exception": false,
     "start_time": "2024-12-09T13:59:17.081217",
     "status": "completed"
    },
    "tags": []
   },
   "outputs": [
    {
     "name": "stderr",
     "output_type": "stream",
     "text": [
      "/opt/conda/lib/python3.10/site-packages/sklearn/linear_model/_logistic.py:1181: UserWarning: Setting penalty=None will ignore the C and l1_ratio parameters\n",
      "  warnings.warn(\n",
      "/opt/conda/lib/python3.10/site-packages/sklearn/linear_model/_logistic.py:1181: UserWarning: Setting penalty=None will ignore the C and l1_ratio parameters\n",
      "  warnings.warn(\n",
      "/opt/conda/lib/python3.10/site-packages/sklearn/linear_model/_logistic.py:1181: UserWarning: Setting penalty=None will ignore the C and l1_ratio parameters\n",
      "  warnings.warn(\n",
      "/opt/conda/lib/python3.10/site-packages/sklearn/linear_model/_logistic.py:1181: UserWarning: Setting penalty=None will ignore the C and l1_ratio parameters\n",
      "  warnings.warn(\n",
      "/opt/conda/lib/python3.10/site-packages/sklearn/linear_model/_logistic.py:1181: UserWarning: Setting penalty=None will ignore the C and l1_ratio parameters\n",
      "  warnings.warn(\n",
      "/opt/conda/lib/python3.10/site-packages/sklearn/linear_model/_logistic.py:1181: UserWarning: Setting penalty=None will ignore the C and l1_ratio parameters\n",
      "  warnings.warn(\n",
      "/opt/conda/lib/python3.10/site-packages/sklearn/linear_model/_logistic.py:1181: UserWarning: Setting penalty=None will ignore the C and l1_ratio parameters\n",
      "  warnings.warn(\n",
      "/opt/conda/lib/python3.10/site-packages/sklearn/linear_model/_logistic.py:1181: UserWarning: Setting penalty=None will ignore the C and l1_ratio parameters\n",
      "  warnings.warn(\n",
      "/opt/conda/lib/python3.10/site-packages/sklearn/linear_model/_logistic.py:1181: UserWarning: Setting penalty=None will ignore the C and l1_ratio parameters\n",
      "  warnings.warn(\n",
      "/opt/conda/lib/python3.10/site-packages/sklearn/linear_model/_sag.py:350: ConvergenceWarning: The max_iter was reached which means the coef_ did not converge\n",
      "  warnings.warn(\n",
      "/opt/conda/lib/python3.10/site-packages/sklearn/linear_model/_sag.py:350: ConvergenceWarning: The max_iter was reached which means the coef_ did not converge\n",
      "  warnings.warn(\n",
      "/opt/conda/lib/python3.10/site-packages/sklearn/linear_model/_logistic.py:1181: UserWarning: Setting penalty=None will ignore the C and l1_ratio parameters\n",
      "  warnings.warn(\n",
      "/opt/conda/lib/python3.10/site-packages/sklearn/linear_model/_sag.py:350: ConvergenceWarning: The max_iter was reached which means the coef_ did not converge\n",
      "  warnings.warn(\n",
      "/opt/conda/lib/python3.10/site-packages/sklearn/linear_model/_sag.py:350: ConvergenceWarning: The max_iter was reached which means the coef_ did not converge\n",
      "  warnings.warn(\n",
      "/opt/conda/lib/python3.10/site-packages/sklearn/linear_model/_sag.py:350: ConvergenceWarning: The max_iter was reached which means the coef_ did not converge\n",
      "  warnings.warn(\n",
      "/opt/conda/lib/python3.10/site-packages/sklearn/linear_model/_sag.py:350: ConvergenceWarning: The max_iter was reached which means the coef_ did not converge\n",
      "  warnings.warn(\n",
      "/opt/conda/lib/python3.10/site-packages/sklearn/linear_model/_sag.py:350: ConvergenceWarning: The max_iter was reached which means the coef_ did not converge\n",
      "  warnings.warn(\n",
      "/opt/conda/lib/python3.10/site-packages/sklearn/linear_model/_logistic.py:1181: UserWarning: Setting penalty=None will ignore the C and l1_ratio parameters\n",
      "  warnings.warn(\n",
      "/opt/conda/lib/python3.10/site-packages/sklearn/linear_model/_logistic.py:1181: UserWarning: Setting penalty=None will ignore the C and l1_ratio parameters\n",
      "  warnings.warn(\n",
      "/opt/conda/lib/python3.10/site-packages/sklearn/linear_model/_logistic.py:1181: UserWarning: Setting penalty=None will ignore the C and l1_ratio parameters\n",
      "  warnings.warn(\n",
      "/opt/conda/lib/python3.10/site-packages/sklearn/linear_model/_logistic.py:1181: UserWarning: Setting penalty=None will ignore the C and l1_ratio parameters\n",
      "  warnings.warn(\n",
      "/opt/conda/lib/python3.10/site-packages/sklearn/linear_model/_logistic.py:1181: UserWarning: Setting penalty=None will ignore the C and l1_ratio parameters\n",
      "  warnings.warn(\n",
      "/opt/conda/lib/python3.10/site-packages/sklearn/linear_model/_logistic.py:1181: UserWarning: Setting penalty=None will ignore the C and l1_ratio parameters\n",
      "  warnings.warn(\n",
      "/opt/conda/lib/python3.10/site-packages/sklearn/linear_model/_sag.py:350: ConvergenceWarning: The max_iter was reached which means the coef_ did not converge\n",
      "  warnings.warn(\n",
      "/opt/conda/lib/python3.10/site-packages/sklearn/linear_model/_logistic.py:1181: UserWarning: Setting penalty=None will ignore the C and l1_ratio parameters\n",
      "  warnings.warn(\n",
      "/opt/conda/lib/python3.10/site-packages/sklearn/linear_model/_sag.py:350: ConvergenceWarning: The max_iter was reached which means the coef_ did not converge\n",
      "  warnings.warn(\n",
      "/opt/conda/lib/python3.10/site-packages/sklearn/linear_model/_logistic.py:1181: UserWarning: Setting penalty=None will ignore the C and l1_ratio parameters\n",
      "  warnings.warn(\n",
      "/opt/conda/lib/python3.10/site-packages/sklearn/linear_model/_sag.py:350: ConvergenceWarning: The max_iter was reached which means the coef_ did not converge\n",
      "  warnings.warn(\n",
      "/opt/conda/lib/python3.10/site-packages/sklearn/linear_model/_logistic.py:1181: UserWarning: Setting penalty=None will ignore the C and l1_ratio parameters\n",
      "  warnings.warn(\n",
      "/opt/conda/lib/python3.10/site-packages/sklearn/linear_model/_sag.py:350: ConvergenceWarning: The max_iter was reached which means the coef_ did not converge\n",
      "  warnings.warn(\n",
      "/opt/conda/lib/python3.10/site-packages/sklearn/linear_model/_logistic.py:1181: UserWarning: Setting penalty=None will ignore the C and l1_ratio parameters\n",
      "  warnings.warn(\n",
      "/opt/conda/lib/python3.10/site-packages/sklearn/linear_model/_sag.py:350: ConvergenceWarning: The max_iter was reached which means the coef_ did not converge\n",
      "  warnings.warn(\n",
      "/opt/conda/lib/python3.10/site-packages/sklearn/linear_model/_sag.py:350: ConvergenceWarning: The max_iter was reached which means the coef_ did not converge\n",
      "  warnings.warn(\n",
      "/opt/conda/lib/python3.10/site-packages/sklearn/linear_model/_sag.py:350: ConvergenceWarning: The max_iter was reached which means the coef_ did not converge\n",
      "  warnings.warn(\n",
      "/opt/conda/lib/python3.10/site-packages/sklearn/linear_model/_sag.py:350: ConvergenceWarning: The max_iter was reached which means the coef_ did not converge\n",
      "  warnings.warn(\n",
      "/opt/conda/lib/python3.10/site-packages/sklearn/linear_model/_sag.py:350: ConvergenceWarning: The max_iter was reached which means the coef_ did not converge\n",
      "  warnings.warn(\n",
      "/opt/conda/lib/python3.10/site-packages/sklearn/linear_model/_sag.py:350: ConvergenceWarning: The max_iter was reached which means the coef_ did not converge\n",
      "  warnings.warn(\n",
      "/opt/conda/lib/python3.10/site-packages/sklearn/linear_model/_sag.py:350: ConvergenceWarning: The max_iter was reached which means the coef_ did not converge\n",
      "  warnings.warn(\n",
      "/opt/conda/lib/python3.10/site-packages/sklearn/linear_model/_sag.py:350: ConvergenceWarning: The max_iter was reached which means the coef_ did not converge\n",
      "  warnings.warn(\n",
      "/opt/conda/lib/python3.10/site-packages/sklearn/linear_model/_sag.py:350: ConvergenceWarning: The max_iter was reached which means the coef_ did not converge\n",
      "  warnings.warn(\n",
      "/opt/conda/lib/python3.10/site-packages/sklearn/linear_model/_sag.py:350: ConvergenceWarning: The max_iter was reached which means the coef_ did not converge\n",
      "  warnings.warn(\n",
      "/opt/conda/lib/python3.10/site-packages/sklearn/linear_model/_sag.py:350: ConvergenceWarning: The max_iter was reached which means the coef_ did not converge\n",
      "  warnings.warn(\n",
      "/opt/conda/lib/python3.10/site-packages/sklearn/linear_model/_sag.py:350: ConvergenceWarning: The max_iter was reached which means the coef_ did not converge\n",
      "  warnings.warn(\n",
      "/opt/conda/lib/python3.10/site-packages/sklearn/linear_model/_sag.py:350: ConvergenceWarning: The max_iter was reached which means the coef_ did not converge\n",
      "  warnings.warn(\n",
      "/opt/conda/lib/python3.10/site-packages/sklearn/linear_model/_sag.py:350: ConvergenceWarning: The max_iter was reached which means the coef_ did not converge\n",
      "  warnings.warn(\n",
      "/opt/conda/lib/python3.10/site-packages/sklearn/linear_model/_sag.py:350: ConvergenceWarning: The max_iter was reached which means the coef_ did not converge\n",
      "  warnings.warn(\n",
      "/opt/conda/lib/python3.10/site-packages/sklearn/linear_model/_sag.py:350: ConvergenceWarning: The max_iter was reached which means the coef_ did not converge\n",
      "  warnings.warn(\n",
      "/opt/conda/lib/python3.10/site-packages/sklearn/linear_model/_sag.py:350: ConvergenceWarning: The max_iter was reached which means the coef_ did not converge\n",
      "  warnings.warn(\n",
      "/opt/conda/lib/python3.10/site-packages/sklearn/linear_model/_sag.py:350: ConvergenceWarning: The max_iter was reached which means the coef_ did not converge\n",
      "  warnings.warn(\n",
      "/opt/conda/lib/python3.10/site-packages/sklearn/linear_model/_sag.py:350: ConvergenceWarning: The max_iter was reached which means the coef_ did not converge\n",
      "  warnings.warn(\n",
      "/opt/conda/lib/python3.10/site-packages/sklearn/linear_model/_sag.py:350: ConvergenceWarning: The max_iter was reached which means the coef_ did not converge\n",
      "  warnings.warn(\n",
      "/opt/conda/lib/python3.10/site-packages/sklearn/linear_model/_sag.py:350: ConvergenceWarning: The max_iter was reached which means the coef_ did not converge\n",
      "  warnings.warn(\n",
      "/opt/conda/lib/python3.10/site-packages/sklearn/linear_model/_sag.py:350: ConvergenceWarning: The max_iter was reached which means the coef_ did not converge\n",
      "  warnings.warn(\n",
      "/opt/conda/lib/python3.10/site-packages/sklearn/linear_model/_sag.py:350: ConvergenceWarning: The max_iter was reached which means the coef_ did not converge\n",
      "  warnings.warn(\n",
      "/opt/conda/lib/python3.10/site-packages/sklearn/linear_model/_sag.py:350: ConvergenceWarning: The max_iter was reached which means the coef_ did not converge\n",
      "  warnings.warn(\n",
      "/opt/conda/lib/python3.10/site-packages/sklearn/linear_model/_sag.py:350: ConvergenceWarning: The max_iter was reached which means the coef_ did not converge\n",
      "  warnings.warn(\n",
      "/opt/conda/lib/python3.10/site-packages/sklearn/linear_model/_sag.py:350: ConvergenceWarning: The max_iter was reached which means the coef_ did not converge\n",
      "  warnings.warn(\n",
      "/opt/conda/lib/python3.10/site-packages/sklearn/linear_model/_sag.py:350: ConvergenceWarning: The max_iter was reached which means the coef_ did not converge\n",
      "  warnings.warn(\n",
      "/opt/conda/lib/python3.10/site-packages/sklearn/linear_model/_logistic.py:1181: UserWarning: Setting penalty=None will ignore the C and l1_ratio parameters\n",
      "  warnings.warn(\n",
      "/opt/conda/lib/python3.10/site-packages/sklearn/linear_model/_logistic.py:1181: UserWarning: Setting penalty=None will ignore the C and l1_ratio parameters\n",
      "  warnings.warn(\n",
      "/opt/conda/lib/python3.10/site-packages/sklearn/linear_model/_logistic.py:1181: UserWarning: Setting penalty=None will ignore the C and l1_ratio parameters\n",
      "  warnings.warn(\n",
      "/opt/conda/lib/python3.10/site-packages/sklearn/linear_model/_logistic.py:1181: UserWarning: Setting penalty=None will ignore the C and l1_ratio parameters\n",
      "  warnings.warn(\n",
      "/opt/conda/lib/python3.10/site-packages/sklearn/linear_model/_logistic.py:1181: UserWarning: Setting penalty=None will ignore the C and l1_ratio parameters\n",
      "  warnings.warn(\n",
      "/opt/conda/lib/python3.10/site-packages/sklearn/linear_model/_logistic.py:1181: UserWarning: Setting penalty=None will ignore the C and l1_ratio parameters\n",
      "  warnings.warn(\n",
      "/opt/conda/lib/python3.10/site-packages/sklearn/linear_model/_logistic.py:1181: UserWarning: Setting penalty=None will ignore the C and l1_ratio parameters\n",
      "  warnings.warn(\n",
      "/opt/conda/lib/python3.10/site-packages/sklearn/linear_model/_sag.py:350: ConvergenceWarning: The max_iter was reached which means the coef_ did not converge\n",
      "  warnings.warn(\n",
      "/opt/conda/lib/python3.10/site-packages/sklearn/linear_model/_logistic.py:1181: UserWarning: Setting penalty=None will ignore the C and l1_ratio parameters\n",
      "  warnings.warn(\n",
      "/opt/conda/lib/python3.10/site-packages/sklearn/linear_model/_sag.py:350: ConvergenceWarning: The max_iter was reached which means the coef_ did not converge\n",
      "  warnings.warn(\n",
      "/opt/conda/lib/python3.10/site-packages/sklearn/linear_model/_logistic.py:1181: UserWarning: Setting penalty=None will ignore the C and l1_ratio parameters\n",
      "  warnings.warn(\n",
      "/opt/conda/lib/python3.10/site-packages/sklearn/linear_model/_sag.py:350: ConvergenceWarning: The max_iter was reached which means the coef_ did not converge\n",
      "  warnings.warn(\n",
      "/opt/conda/lib/python3.10/site-packages/sklearn/linear_model/_logistic.py:1181: UserWarning: Setting penalty=None will ignore the C and l1_ratio parameters\n",
      "  warnings.warn(\n",
      "/opt/conda/lib/python3.10/site-packages/sklearn/linear_model/_sag.py:350: ConvergenceWarning: The max_iter was reached which means the coef_ did not converge\n",
      "  warnings.warn(\n",
      "/opt/conda/lib/python3.10/site-packages/sklearn/linear_model/_sag.py:350: ConvergenceWarning: The max_iter was reached which means the coef_ did not converge\n",
      "  warnings.warn(\n",
      "/opt/conda/lib/python3.10/site-packages/sklearn/linear_model/_sag.py:350: ConvergenceWarning: The max_iter was reached which means the coef_ did not converge\n",
      "  warnings.warn(\n",
      "/opt/conda/lib/python3.10/site-packages/sklearn/linear_model/_sag.py:350: ConvergenceWarning: The max_iter was reached which means the coef_ did not converge\n",
      "  warnings.warn(\n",
      "/opt/conda/lib/python3.10/site-packages/sklearn/linear_model/_sag.py:350: ConvergenceWarning: The max_iter was reached which means the coef_ did not converge\n",
      "  warnings.warn(\n",
      "/opt/conda/lib/python3.10/site-packages/sklearn/linear_model/_sag.py:350: ConvergenceWarning: The max_iter was reached which means the coef_ did not converge\n",
      "  warnings.warn(\n",
      "/opt/conda/lib/python3.10/site-packages/sklearn/linear_model/_sag.py:350: ConvergenceWarning: The max_iter was reached which means the coef_ did not converge\n",
      "  warnings.warn(\n",
      "/opt/conda/lib/python3.10/site-packages/sklearn/linear_model/_sag.py:350: ConvergenceWarning: The max_iter was reached which means the coef_ did not converge\n",
      "  warnings.warn(\n",
      "/opt/conda/lib/python3.10/site-packages/sklearn/linear_model/_sag.py:350: ConvergenceWarning: The max_iter was reached which means the coef_ did not converge\n",
      "  warnings.warn(\n",
      "/opt/conda/lib/python3.10/site-packages/sklearn/linear_model/_sag.py:350: ConvergenceWarning: The max_iter was reached which means the coef_ did not converge\n",
      "  warnings.warn(\n",
      "/opt/conda/lib/python3.10/site-packages/sklearn/linear_model/_sag.py:350: ConvergenceWarning: The max_iter was reached which means the coef_ did not converge\n",
      "  warnings.warn(\n",
      "/opt/conda/lib/python3.10/site-packages/sklearn/linear_model/_logistic.py:1181: UserWarning: Setting penalty=None will ignore the C and l1_ratio parameters\n",
      "  warnings.warn(\n",
      "/opt/conda/lib/python3.10/site-packages/sklearn/linear_model/_logistic.py:1181: UserWarning: Setting penalty=None will ignore the C and l1_ratio parameters\n",
      "  warnings.warn(\n",
      "/opt/conda/lib/python3.10/site-packages/sklearn/linear_model/_logistic.py:1181: UserWarning: Setting penalty=None will ignore the C and l1_ratio parameters\n",
      "  warnings.warn(\n",
      "/opt/conda/lib/python3.10/site-packages/sklearn/linear_model/_logistic.py:1181: UserWarning: Setting penalty=None will ignore the C and l1_ratio parameters\n",
      "  warnings.warn(\n",
      "/opt/conda/lib/python3.10/site-packages/sklearn/linear_model/_logistic.py:1181: UserWarning: Setting penalty=None will ignore the C and l1_ratio parameters\n",
      "  warnings.warn(\n",
      "/opt/conda/lib/python3.10/site-packages/sklearn/linear_model/_logistic.py:1181: UserWarning: Setting penalty=None will ignore the C and l1_ratio parameters\n",
      "  warnings.warn(\n",
      "/opt/conda/lib/python3.10/site-packages/sklearn/linear_model/_sag.py:350: ConvergenceWarning: The max_iter was reached which means the coef_ did not converge\n",
      "  warnings.warn(\n",
      "/opt/conda/lib/python3.10/site-packages/sklearn/linear_model/_logistic.py:1181: UserWarning: Setting penalty=None will ignore the C and l1_ratio parameters\n",
      "  warnings.warn(\n",
      "/opt/conda/lib/python3.10/site-packages/sklearn/linear_model/_sag.py:350: ConvergenceWarning: The max_iter was reached which means the coef_ did not converge\n",
      "  warnings.warn(\n",
      "/opt/conda/lib/python3.10/site-packages/sklearn/linear_model/_logistic.py:1181: UserWarning: Setting penalty=None will ignore the C and l1_ratio parameters\n",
      "  warnings.warn(\n",
      "/opt/conda/lib/python3.10/site-packages/sklearn/linear_model/_sag.py:350: ConvergenceWarning: The max_iter was reached which means the coef_ did not converge\n",
      "  warnings.warn(\n",
      "/opt/conda/lib/python3.10/site-packages/sklearn/linear_model/_logistic.py:1181: UserWarning: Setting penalty=None will ignore the C and l1_ratio parameters\n",
      "  warnings.warn(\n",
      "/opt/conda/lib/python3.10/site-packages/sklearn/linear_model/_sag.py:350: ConvergenceWarning: The max_iter was reached which means the coef_ did not converge\n",
      "  warnings.warn(\n",
      "/opt/conda/lib/python3.10/site-packages/sklearn/linear_model/_logistic.py:1181: UserWarning: Setting penalty=None will ignore the C and l1_ratio parameters\n",
      "  warnings.warn(\n",
      "/opt/conda/lib/python3.10/site-packages/sklearn/linear_model/_sag.py:350: ConvergenceWarning: The max_iter was reached which means the coef_ did not converge\n",
      "  warnings.warn(\n",
      "/opt/conda/lib/python3.10/site-packages/sklearn/linear_model/_sag.py:350: ConvergenceWarning: The max_iter was reached which means the coef_ did not converge\n",
      "  warnings.warn(\n",
      "/opt/conda/lib/python3.10/site-packages/sklearn/linear_model/_sag.py:350: ConvergenceWarning: The max_iter was reached which means the coef_ did not converge\n",
      "  warnings.warn(\n",
      "/opt/conda/lib/python3.10/site-packages/sklearn/linear_model/_sag.py:350: ConvergenceWarning: The max_iter was reached which means the coef_ did not converge\n",
      "  warnings.warn(\n",
      "/opt/conda/lib/python3.10/site-packages/sklearn/model_selection/_validation.py:378: FitFailedWarning: \n",
      "75 fits failed out of a total of 200.\n",
      "The score on these train-test partitions for these parameters will be set to nan.\n",
      "If these failures are not expected, you can try to debug them by setting error_score='raise'.\n",
      "\n",
      "Below are more details about the failures:\n",
      "--------------------------------------------------------------------------------\n",
      "25 fits failed with the following error:\n",
      "Traceback (most recent call last):\n",
      "  File \"/opt/conda/lib/python3.10/site-packages/sklearn/model_selection/_validation.py\", line 686, in _fit_and_score\n",
      "    estimator.fit(X_train, y_train, **fit_params)\n",
      "  File \"/opt/conda/lib/python3.10/site-packages/sklearn/linear_model/_logistic.py\", line 1162, in fit\n",
      "    solver = _check_solver(self.solver, self.penalty, self.dual)\n",
      "  File \"/opt/conda/lib/python3.10/site-packages/sklearn/linear_model/_logistic.py\", line 64, in _check_solver\n",
      "    raise ValueError(\n",
      "ValueError: Only 'saga' solver supports elasticnet penalty, got solver=liblinear.\n",
      "\n",
      "--------------------------------------------------------------------------------\n",
      "25 fits failed with the following error:\n",
      "Traceback (most recent call last):\n",
      "  File \"/opt/conda/lib/python3.10/site-packages/sklearn/model_selection/_validation.py\", line 686, in _fit_and_score\n",
      "    estimator.fit(X_train, y_train, **fit_params)\n",
      "  File \"/opt/conda/lib/python3.10/site-packages/sklearn/linear_model/_logistic.py\", line 1291, in fit\n",
      "    fold_coefs_ = Parallel(n_jobs=self.n_jobs, verbose=self.verbose, prefer=prefer)(\n",
      "  File \"/opt/conda/lib/python3.10/site-packages/sklearn/utils/parallel.py\", line 63, in __call__\n",
      "    return super().__call__(iterable_with_config)\n",
      "  File \"/opt/conda/lib/python3.10/site-packages/joblib/parallel.py\", line 1918, in __call__\n",
      "    return output if self.return_generator else list(output)\n",
      "  File \"/opt/conda/lib/python3.10/site-packages/joblib/parallel.py\", line 1847, in _get_sequential_output\n",
      "    res = func(*args, **kwargs)\n",
      "  File \"/opt/conda/lib/python3.10/site-packages/sklearn/utils/parallel.py\", line 123, in __call__\n",
      "    return self.function(*args, **kwargs)\n",
      "  File \"/opt/conda/lib/python3.10/site-packages/sklearn/linear_model/_logistic.py\", line 521, in _logistic_regression_path\n",
      "    alpha = (1.0 / C) * (1 - l1_ratio)\n",
      "TypeError: unsupported operand type(s) for -: 'int' and 'NoneType'\n",
      "\n",
      "--------------------------------------------------------------------------------\n",
      "25 fits failed with the following error:\n",
      "Traceback (most recent call last):\n",
      "  File \"/opt/conda/lib/python3.10/site-packages/sklearn/model_selection/_validation.py\", line 686, in _fit_and_score\n",
      "    estimator.fit(X_train, y_train, **fit_params)\n",
      "  File \"/opt/conda/lib/python3.10/site-packages/sklearn/linear_model/_logistic.py\", line 1216, in fit\n",
      "    self.coef_, self.intercept_, self.n_iter_ = _fit_liblinear(\n",
      "  File \"/opt/conda/lib/python3.10/site-packages/sklearn/svm/_base.py\", line 1223, in _fit_liblinear\n",
      "    solver_type = _get_liblinear_solver_type(multi_class, penalty, loss, dual)\n",
      "  File \"/opt/conda/lib/python3.10/site-packages/sklearn/svm/_base.py\", line 1062, in _get_liblinear_solver_type\n",
      "    raise ValueError(\n",
      "ValueError: Unsupported set of arguments: The combination of penalty='None' and loss='logistic_regression' is not supported, Parameters: penalty=None, loss='logistic_regression', dual=False\n",
      "\n",
      "  warnings.warn(some_fits_failed_message, FitFailedWarning)\n",
      "/opt/conda/lib/python3.10/site-packages/sklearn/model_selection/_search.py:952: UserWarning: One or more of the test scores are non-finite: [0.84286691 0.8425598  0.84501672 0.84474795        nan        nan\n",
      "        nan 0.85058344 0.85000757 0.85000759 0.85004593 0.85042987\n",
      "        nan        nan        nan 0.85058344 0.85039146 0.85046825\n",
      " 0.85042987 0.85054504        nan        nan        nan 0.85058344\n",
      " 0.85062182 0.85054504 0.85054504 0.85054504        nan        nan\n",
      "        nan 0.85058344 0.85054504 0.85058344 0.85058343 0.85058344\n",
      "        nan        nan        nan 0.85058344]\n",
      "  warnings.warn(\n"
     ]
    }
   ],
   "source": [
    "logistic = LogisticRegression()\n",
    "param_grid = {\n",
    "    'C': [0.01, 0.1, 1, 10, 100],                # Regularization strength\n",
    "    'solver': ['liblinear', 'saga'],             # Algorithm to use in the optimization problem\n",
    "    'penalty': ['l1', 'l2', 'elasticnet', None]  # Specify the norm used in the penalization\n",
    "}\n",
    "\n",
    "grid_logistic = GridSearchCV(estimator=logistic, \n",
    "                             param_grid=param_grid, \n",
    "                             cv=5, \n",
    "                             scoring='accuracy', \n",
    "                             n_jobs=-1)\n",
    "grid_search_logistic=grid_logistic.fit(X_train, y_train.values.ravel())"
   ]
  },
  {
   "cell_type": "code",
   "execution_count": 16,
   "id": "e28b0fab",
   "metadata": {
    "execution": {
     "iopub.execute_input": "2024-12-09T14:00:17.582937Z",
     "iopub.status.busy": "2024-12-09T14:00:17.582561Z",
     "iopub.status.idle": "2024-12-09T14:00:17.588466Z",
     "shell.execute_reply": "2024-12-09T14:00:17.587377Z"
    },
    "papermill": {
     "duration": 0.022134,
     "end_time": "2024-12-09T14:00:17.590877",
     "exception": false,
     "start_time": "2024-12-09T14:00:17.568743",
     "status": "completed"
    },
    "tags": []
   },
   "outputs": [
    {
     "name": "stdout",
     "output_type": "stream",
     "text": [
      "Melhor parâmetro: {'C': 10, 'penalty': 'l1', 'solver': 'liblinear'}\n",
      "Acurácia sobre o dataset de treino: 85.06%\n"
     ]
    }
   ],
   "source": [
    "print('Melhor parâmetro:',grid_search_logistic.best_params_)\n",
    "print(f'Acurácia sobre o dataset de treino: {grid_search_logistic.best_score_*100:.2f}%')"
   ]
  },
  {
   "cell_type": "markdown",
   "id": "560c3726",
   "metadata": {
    "papermill": {
     "duration": 0.012255,
     "end_time": "2024-12-09T14:00:17.616106",
     "exception": false,
     "start_time": "2024-12-09T14:00:17.603851",
     "status": "completed"
    },
    "tags": []
   },
   "source": [
    "### Random Forest"
   ]
  },
  {
   "cell_type": "code",
   "execution_count": 17,
   "id": "e24d78ac",
   "metadata": {
    "execution": {
     "iopub.execute_input": "2024-12-09T14:00:17.642066Z",
     "iopub.status.busy": "2024-12-09T14:00:17.641707Z",
     "iopub.status.idle": "2024-12-09T14:16:58.925375Z",
     "shell.execute_reply": "2024-12-09T14:16:58.924415Z"
    },
    "papermill": {
     "duration": 1001.312846,
     "end_time": "2024-12-09T14:16:58.941190",
     "exception": false,
     "start_time": "2024-12-09T14:00:17.628344",
     "status": "completed"
    },
    "tags": []
   },
   "outputs": [
    {
     "data": {
      "text/html": [
       "<style>#sk-container-id-1 {color: black;background-color: white;}#sk-container-id-1 pre{padding: 0;}#sk-container-id-1 div.sk-toggleable {background-color: white;}#sk-container-id-1 label.sk-toggleable__label {cursor: pointer;display: block;width: 100%;margin-bottom: 0;padding: 0.3em;box-sizing: border-box;text-align: center;}#sk-container-id-1 label.sk-toggleable__label-arrow:before {content: \"▸\";float: left;margin-right: 0.25em;color: #696969;}#sk-container-id-1 label.sk-toggleable__label-arrow:hover:before {color: black;}#sk-container-id-1 div.sk-estimator:hover label.sk-toggleable__label-arrow:before {color: black;}#sk-container-id-1 div.sk-toggleable__content {max-height: 0;max-width: 0;overflow: hidden;text-align: left;background-color: #f0f8ff;}#sk-container-id-1 div.sk-toggleable__content pre {margin: 0.2em;color: black;border-radius: 0.25em;background-color: #f0f8ff;}#sk-container-id-1 input.sk-toggleable__control:checked~div.sk-toggleable__content {max-height: 200px;max-width: 100%;overflow: auto;}#sk-container-id-1 input.sk-toggleable__control:checked~label.sk-toggleable__label-arrow:before {content: \"▾\";}#sk-container-id-1 div.sk-estimator input.sk-toggleable__control:checked~label.sk-toggleable__label {background-color: #d4ebff;}#sk-container-id-1 div.sk-label input.sk-toggleable__control:checked~label.sk-toggleable__label {background-color: #d4ebff;}#sk-container-id-1 input.sk-hidden--visually {border: 0;clip: rect(1px 1px 1px 1px);clip: rect(1px, 1px, 1px, 1px);height: 1px;margin: -1px;overflow: hidden;padding: 0;position: absolute;width: 1px;}#sk-container-id-1 div.sk-estimator {font-family: monospace;background-color: #f0f8ff;border: 1px dotted black;border-radius: 0.25em;box-sizing: border-box;margin-bottom: 0.5em;}#sk-container-id-1 div.sk-estimator:hover {background-color: #d4ebff;}#sk-container-id-1 div.sk-parallel-item::after {content: \"\";width: 100%;border-bottom: 1px solid gray;flex-grow: 1;}#sk-container-id-1 div.sk-label:hover label.sk-toggleable__label {background-color: #d4ebff;}#sk-container-id-1 div.sk-serial::before {content: \"\";position: absolute;border-left: 1px solid gray;box-sizing: border-box;top: 0;bottom: 0;left: 50%;z-index: 0;}#sk-container-id-1 div.sk-serial {display: flex;flex-direction: column;align-items: center;background-color: white;padding-right: 0.2em;padding-left: 0.2em;position: relative;}#sk-container-id-1 div.sk-item {position: relative;z-index: 1;}#sk-container-id-1 div.sk-parallel {display: flex;align-items: stretch;justify-content: center;background-color: white;position: relative;}#sk-container-id-1 div.sk-item::before, #sk-container-id-1 div.sk-parallel-item::before {content: \"\";position: absolute;border-left: 1px solid gray;box-sizing: border-box;top: 0;bottom: 0;left: 50%;z-index: -1;}#sk-container-id-1 div.sk-parallel-item {display: flex;flex-direction: column;z-index: 1;position: relative;background-color: white;}#sk-container-id-1 div.sk-parallel-item:first-child::after {align-self: flex-end;width: 50%;}#sk-container-id-1 div.sk-parallel-item:last-child::after {align-self: flex-start;width: 50%;}#sk-container-id-1 div.sk-parallel-item:only-child::after {width: 0;}#sk-container-id-1 div.sk-dashed-wrapped {border: 1px dashed gray;margin: 0 0.4em 0.5em 0.4em;box-sizing: border-box;padding-bottom: 0.4em;background-color: white;}#sk-container-id-1 div.sk-label label {font-family: monospace;font-weight: bold;display: inline-block;line-height: 1.2em;}#sk-container-id-1 div.sk-label-container {text-align: center;}#sk-container-id-1 div.sk-container {/* jupyter's `normalize.less` sets `[hidden] { display: none; }` but bootstrap.min.css set `[hidden] { display: none !important; }` so we also need the `!important` here to be able to override the default hidden behavior on the sphinx rendered scikit-learn.org. See: https://github.com/scikit-learn/scikit-learn/issues/21755 */display: inline-block !important;position: relative;}#sk-container-id-1 div.sk-text-repr-fallback {display: none;}</style><div id=\"sk-container-id-1\" class=\"sk-top-container\"><div class=\"sk-text-repr-fallback\"><pre>RandomizedSearchCV(cv=5, estimator=RandomForestClassifier(random_state=42),\n",
       "                   n_iter=100, n_jobs=-1,\n",
       "                   param_distributions={&#x27;bootstrap&#x27;: [True, False],\n",
       "                                        &#x27;max_depth&#x27;: [None, 26, 25, 16, 22, 27,\n",
       "                                                      14, 14, 22, 19, 22, 25,\n",
       "                                                      26, 16, 25, 23, 16, 10,\n",
       "                                                      18, 17, 23],\n",
       "                                        &#x27;min_samples_leaf&#x27;: &lt;scipy.stats._distn_infrastructure.rv_discrete_frozen object at 0x79ee7eed2ad0&gt;,\n",
       "                                        &#x27;min_samples_split&#x27;: &lt;scipy.stats._distn_infrastructure.rv_discrete_frozen object at 0x79ee7f747e50&gt;,\n",
       "                                        &#x27;n_estimators&#x27;: &lt;scipy.stats._distn_infrastructure.rv_discrete_frozen object at 0x79ee7eed3370&gt;},\n",
       "                   random_state=42, scoring=&#x27;accuracy&#x27;)</pre><b>In a Jupyter environment, please rerun this cell to show the HTML representation or trust the notebook. <br />On GitHub, the HTML representation is unable to render, please try loading this page with nbviewer.org.</b></div><div class=\"sk-container\" hidden><div class=\"sk-item sk-dashed-wrapped\"><div class=\"sk-label-container\"><div class=\"sk-label sk-toggleable\"><input class=\"sk-toggleable__control sk-hidden--visually\" id=\"sk-estimator-id-1\" type=\"checkbox\" ><label for=\"sk-estimator-id-1\" class=\"sk-toggleable__label sk-toggleable__label-arrow\">RandomizedSearchCV</label><div class=\"sk-toggleable__content\"><pre>RandomizedSearchCV(cv=5, estimator=RandomForestClassifier(random_state=42),\n",
       "                   n_iter=100, n_jobs=-1,\n",
       "                   param_distributions={&#x27;bootstrap&#x27;: [True, False],\n",
       "                                        &#x27;max_depth&#x27;: [None, 26, 25, 16, 22, 27,\n",
       "                                                      14, 14, 22, 19, 22, 25,\n",
       "                                                      26, 16, 25, 23, 16, 10,\n",
       "                                                      18, 17, 23],\n",
       "                                        &#x27;min_samples_leaf&#x27;: &lt;scipy.stats._distn_infrastructure.rv_discrete_frozen object at 0x79ee7eed2ad0&gt;,\n",
       "                                        &#x27;min_samples_split&#x27;: &lt;scipy.stats._distn_infrastructure.rv_discrete_frozen object at 0x79ee7f747e50&gt;,\n",
       "                                        &#x27;n_estimators&#x27;: &lt;scipy.stats._distn_infrastructure.rv_discrete_frozen object at 0x79ee7eed3370&gt;},\n",
       "                   random_state=42, scoring=&#x27;accuracy&#x27;)</pre></div></div></div><div class=\"sk-parallel\"><div class=\"sk-parallel-item\"><div class=\"sk-item\"><div class=\"sk-label-container\"><div class=\"sk-label sk-toggleable\"><input class=\"sk-toggleable__control sk-hidden--visually\" id=\"sk-estimator-id-2\" type=\"checkbox\" ><label for=\"sk-estimator-id-2\" class=\"sk-toggleable__label sk-toggleable__label-arrow\">estimator: RandomForestClassifier</label><div class=\"sk-toggleable__content\"><pre>RandomForestClassifier(random_state=42)</pre></div></div></div><div class=\"sk-serial\"><div class=\"sk-item\"><div class=\"sk-estimator sk-toggleable\"><input class=\"sk-toggleable__control sk-hidden--visually\" id=\"sk-estimator-id-3\" type=\"checkbox\" ><label for=\"sk-estimator-id-3\" class=\"sk-toggleable__label sk-toggleable__label-arrow\">RandomForestClassifier</label><div class=\"sk-toggleable__content\"><pre>RandomForestClassifier(random_state=42)</pre></div></div></div></div></div></div></div></div></div></div>"
      ],
      "text/plain": [
       "RandomizedSearchCV(cv=5, estimator=RandomForestClassifier(random_state=42),\n",
       "                   n_iter=100, n_jobs=-1,\n",
       "                   param_distributions={'bootstrap': [True, False],\n",
       "                                        'max_depth': [None, 26, 25, 16, 22, 27,\n",
       "                                                      14, 14, 22, 19, 22, 25,\n",
       "                                                      26, 16, 25, 23, 16, 10,\n",
       "                                                      18, 17, 23],\n",
       "                                        'min_samples_leaf': <scipy.stats._distn_infrastructure.rv_discrete_frozen object at 0x79ee7eed2ad0>,\n",
       "                                        'min_samples_split': <scipy.stats._distn_infrastructure.rv_discrete_frozen object at 0x79ee7f747e50>,\n",
       "                                        'n_estimators': <scipy.stats._distn_infrastructure.rv_discrete_frozen object at 0x79ee7eed3370>},\n",
       "                   random_state=42, scoring='accuracy')"
      ]
     },
     "execution_count": 17,
     "metadata": {},
     "output_type": "execute_result"
    }
   ],
   "source": [
    "random_forest = RandomForestClassifier(random_state=42)\n",
    "param_dist = {\n",
    "    'n_estimators': randint(100, 300),                    # Number of trees in the forest.\n",
    "    'max_depth': [None] + list(randint(10, 30).rvs(20)),  # Maximum depth of the tree\n",
    "    'min_samples_split': randint(2, 10),                  # Minimum number of samples required to split an internal node\n",
    "    'min_samples_leaf': randint(1, 4),                    # Minimum number of samples required to be at a leaf node\n",
    "    'bootstrap': [True, False]                            # Whether bootstrap samples are used when building trees\n",
    "}\n",
    "\n",
    "random_search_random_forest = RandomizedSearchCV(estimator=random_forest, \n",
    "                                                 param_distributions=param_dist, \n",
    "                                                 n_iter=100, \n",
    "                                                 cv=5, \n",
    "                                                 scoring='accuracy', \n",
    "                                                 random_state=42,\n",
    "                                                 n_jobs=-1)\n",
    "random_search_random_forest.fit(X_train, y_train.values.ravel())"
   ]
  },
  {
   "cell_type": "code",
   "execution_count": 18,
   "id": "ef23272d",
   "metadata": {
    "execution": {
     "iopub.execute_input": "2024-12-09T14:16:58.968411Z",
     "iopub.status.busy": "2024-12-09T14:16:58.967669Z",
     "iopub.status.idle": "2024-12-09T14:16:58.973137Z",
     "shell.execute_reply": "2024-12-09T14:16:58.972172Z"
    },
    "papermill": {
     "duration": 0.021428,
     "end_time": "2024-12-09T14:16:58.975124",
     "exception": false,
     "start_time": "2024-12-09T14:16:58.953696",
     "status": "completed"
    },
    "tags": []
   },
   "outputs": [
    {
     "name": "stdout",
     "output_type": "stream",
     "text": [
      "Melhor parâmetro: {'bootstrap': False, 'max_depth': 19, 'min_samples_leaf': 2, 'min_samples_split': 6, 'n_estimators': 290}\n",
      "Acurácia sobre o dataset de treino: 86.51%\n"
     ]
    }
   ],
   "source": [
    "print('Melhor parâmetro:',random_search_random_forest.best_params_)\n",
    "print(f'Acurácia sobre o dataset de treino: {random_search_random_forest.best_score_*100:.2f}%')"
   ]
  },
  {
   "cell_type": "markdown",
   "id": "90696e04",
   "metadata": {
    "papermill": {
     "duration": 0.012573,
     "end_time": "2024-12-09T14:16:59.001027",
     "exception": false,
     "start_time": "2024-12-09T14:16:58.988454",
     "status": "completed"
    },
    "tags": []
   },
   "source": [
    "### SVM"
   ]
  },
  {
   "cell_type": "code",
   "execution_count": 19,
   "id": "737254d9",
   "metadata": {
    "execution": {
     "iopub.execute_input": "2024-12-09T14:16:59.028257Z",
     "iopub.status.busy": "2024-12-09T14:16:59.027853Z",
     "iopub.status.idle": "2024-12-09T14:46:51.106766Z",
     "shell.execute_reply": "2024-12-09T14:46:51.105631Z"
    },
    "papermill": {
     "duration": 1792.095457,
     "end_time": "2024-12-09T14:46:51.109283",
     "exception": false,
     "start_time": "2024-12-09T14:16:59.013826",
     "status": "completed"
    },
    "tags": []
   },
   "outputs": [],
   "source": [
    "svm = SVC()\n",
    "param_grid = {\n",
    "    'C': [1, 10, 20],                     # Regularization strength\n",
    "    'gamma': ['auto', 'scale'],           # Kernel coefficient for 'rbf' and 'poly'\n",
    "    'kernel': ['linear', 'rbf', 'poly'],  # Specifies the kernel type\n",
    "    'degree': [2,3]                       # Degree of the polynomial kernel function\n",
    "}\n",
    "\n",
    "grid_svm = GridSearchCV(estimator=svm, \n",
    "                        param_grid=param_grid, \n",
    "                        cv=5, \n",
    "                        scoring='accuracy', \n",
    "                        n_jobs=-1)\n",
    "grid_search_svm=grid_svm.fit(X_train, y_train.values.ravel())"
   ]
  },
  {
   "cell_type": "code",
   "execution_count": 20,
   "id": "23238d62",
   "metadata": {
    "execution": {
     "iopub.execute_input": "2024-12-09T14:46:51.138958Z",
     "iopub.status.busy": "2024-12-09T14:46:51.138568Z",
     "iopub.status.idle": "2024-12-09T14:46:51.145207Z",
     "shell.execute_reply": "2024-12-09T14:46:51.143844Z"
    },
    "papermill": {
     "duration": 0.022924,
     "end_time": "2024-12-09T14:46:51.147358",
     "exception": false,
     "start_time": "2024-12-09T14:46:51.124434",
     "status": "completed"
    },
    "tags": []
   },
   "outputs": [
    {
     "name": "stdout",
     "output_type": "stream",
     "text": [
      "Melhor parâmetro: {'C': 10, 'degree': 2, 'gamma': 'scale', 'kernel': 'rbf'}\n",
      "Acurácia sobre o dataset de treino: 85.66%\n"
     ]
    }
   ],
   "source": [
    "print('Melhor parâmetro:',grid_search_svm.best_params_)\n",
    "print(f'Acurácia sobre o dataset de treino: {grid_search_svm.best_score_*100:.2f}%')"
   ]
  },
  {
   "cell_type": "markdown",
   "id": "b3964835",
   "metadata": {
    "papermill": {
     "duration": 0.012454,
     "end_time": "2024-12-09T14:46:51.172981",
     "exception": false,
     "start_time": "2024-12-09T14:46:51.160527",
     "status": "completed"
    },
    "tags": []
   },
   "source": [
    "### Boosted Classifier"
   ]
  },
  {
   "cell_type": "code",
   "execution_count": 21,
   "id": "e3f6296a",
   "metadata": {
    "execution": {
     "iopub.execute_input": "2024-12-09T14:46:51.201216Z",
     "iopub.status.busy": "2024-12-09T14:46:51.200818Z",
     "iopub.status.idle": "2024-12-09T14:51:02.248917Z",
     "shell.execute_reply": "2024-12-09T14:51:02.247661Z"
    },
    "papermill": {
     "duration": 251.065524,
     "end_time": "2024-12-09T14:51:02.251553",
     "exception": false,
     "start_time": "2024-12-09T14:46:51.186029",
     "status": "completed"
    },
    "tags": []
   },
   "outputs": [],
   "source": [
    "ab = AdaBoostClassifier(random_state=42)\n",
    "param_grid = {\n",
    "    'n_estimators': [50, 100, 150, 200],    # The maximum number of estimators at which boosting is terminated\n",
    "    'learning_rate': [0.01, 0.1, 1],        # Weight applied to each classifier at each boosting iteration\n",
    "    'estimator': [DecisionTreeClassifier(max_depth=1), \n",
    "                  DecisionTreeClassifier(max_depth=2),\n",
    "                  DecisionTreeClassifier(max_depth=3)\n",
    "                  ]                         # The base estimator from which the boosted ensemble is built\n",
    "}\n",
    "\n",
    "grid_ab = GridSearchCV(estimator=ab,\n",
    "                       param_grid=param_grid,\n",
    "                       cv=5,\n",
    "                       scoring='accuracy',\n",
    "                       n_jobs=-1)\n",
    "grid_search_ab = grid_ab.fit(X_train, y_train.values.ravel())"
   ]
  },
  {
   "cell_type": "code",
   "execution_count": 22,
   "id": "06954925",
   "metadata": {
    "execution": {
     "iopub.execute_input": "2024-12-09T14:51:02.280210Z",
     "iopub.status.busy": "2024-12-09T14:51:02.279830Z",
     "iopub.status.idle": "2024-12-09T14:51:02.286184Z",
     "shell.execute_reply": "2024-12-09T14:51:02.285063Z"
    },
    "papermill": {
     "duration": 0.023518,
     "end_time": "2024-12-09T14:51:02.288819",
     "exception": false,
     "start_time": "2024-12-09T14:51:02.265301",
     "status": "completed"
    },
    "tags": []
   },
   "outputs": [
    {
     "name": "stdout",
     "output_type": "stream",
     "text": [
      "Melhor parâmetro: {'estimator': DecisionTreeClassifier(max_depth=3), 'learning_rate': 0.1, 'n_estimators': 200}\n",
      "Acurácia sobre o dataset de treino: 87.14%\n"
     ]
    }
   ],
   "source": [
    "print('Melhor parâmetro:',grid_search_ab.best_params_)\n",
    "print(f'Acurácia sobre o dataset de treino: {grid_search_ab.best_score_*100:.2f}%')"
   ]
  },
  {
   "cell_type": "markdown",
   "id": "651ef6ce",
   "metadata": {
    "papermill": {
     "duration": 0.012835,
     "end_time": "2024-12-09T14:51:02.315303",
     "exception": false,
     "start_time": "2024-12-09T14:51:02.302468",
     "status": "completed"
    },
    "tags": []
   },
   "source": [
    "## Training the best models"
   ]
  },
  {
   "cell_type": "code",
   "execution_count": 23,
   "id": "87590b80",
   "metadata": {
    "execution": {
     "iopub.execute_input": "2024-12-09T14:51:02.342870Z",
     "iopub.status.busy": "2024-12-09T14:51:02.342510Z",
     "iopub.status.idle": "2024-12-09T14:51:57.717231Z",
     "shell.execute_reply": "2024-12-09T14:51:57.716135Z"
    },
    "papermill": {
     "duration": 55.402635,
     "end_time": "2024-12-09T14:51:57.731170",
     "exception": false,
     "start_time": "2024-12-09T14:51:02.328535",
     "status": "completed"
    },
    "tags": []
   },
   "outputs": [
    {
     "data": {
      "text/html": [
       "<style>#sk-container-id-2 {color: black;background-color: white;}#sk-container-id-2 pre{padding: 0;}#sk-container-id-2 div.sk-toggleable {background-color: white;}#sk-container-id-2 label.sk-toggleable__label {cursor: pointer;display: block;width: 100%;margin-bottom: 0;padding: 0.3em;box-sizing: border-box;text-align: center;}#sk-container-id-2 label.sk-toggleable__label-arrow:before {content: \"▸\";float: left;margin-right: 0.25em;color: #696969;}#sk-container-id-2 label.sk-toggleable__label-arrow:hover:before {color: black;}#sk-container-id-2 div.sk-estimator:hover label.sk-toggleable__label-arrow:before {color: black;}#sk-container-id-2 div.sk-toggleable__content {max-height: 0;max-width: 0;overflow: hidden;text-align: left;background-color: #f0f8ff;}#sk-container-id-2 div.sk-toggleable__content pre {margin: 0.2em;color: black;border-radius: 0.25em;background-color: #f0f8ff;}#sk-container-id-2 input.sk-toggleable__control:checked~div.sk-toggleable__content {max-height: 200px;max-width: 100%;overflow: auto;}#sk-container-id-2 input.sk-toggleable__control:checked~label.sk-toggleable__label-arrow:before {content: \"▾\";}#sk-container-id-2 div.sk-estimator input.sk-toggleable__control:checked~label.sk-toggleable__label {background-color: #d4ebff;}#sk-container-id-2 div.sk-label input.sk-toggleable__control:checked~label.sk-toggleable__label {background-color: #d4ebff;}#sk-container-id-2 input.sk-hidden--visually {border: 0;clip: rect(1px 1px 1px 1px);clip: rect(1px, 1px, 1px, 1px);height: 1px;margin: -1px;overflow: hidden;padding: 0;position: absolute;width: 1px;}#sk-container-id-2 div.sk-estimator {font-family: monospace;background-color: #f0f8ff;border: 1px dotted black;border-radius: 0.25em;box-sizing: border-box;margin-bottom: 0.5em;}#sk-container-id-2 div.sk-estimator:hover {background-color: #d4ebff;}#sk-container-id-2 div.sk-parallel-item::after {content: \"\";width: 100%;border-bottom: 1px solid gray;flex-grow: 1;}#sk-container-id-2 div.sk-label:hover label.sk-toggleable__label {background-color: #d4ebff;}#sk-container-id-2 div.sk-serial::before {content: \"\";position: absolute;border-left: 1px solid gray;box-sizing: border-box;top: 0;bottom: 0;left: 50%;z-index: 0;}#sk-container-id-2 div.sk-serial {display: flex;flex-direction: column;align-items: center;background-color: white;padding-right: 0.2em;padding-left: 0.2em;position: relative;}#sk-container-id-2 div.sk-item {position: relative;z-index: 1;}#sk-container-id-2 div.sk-parallel {display: flex;align-items: stretch;justify-content: center;background-color: white;position: relative;}#sk-container-id-2 div.sk-item::before, #sk-container-id-2 div.sk-parallel-item::before {content: \"\";position: absolute;border-left: 1px solid gray;box-sizing: border-box;top: 0;bottom: 0;left: 50%;z-index: -1;}#sk-container-id-2 div.sk-parallel-item {display: flex;flex-direction: column;z-index: 1;position: relative;background-color: white;}#sk-container-id-2 div.sk-parallel-item:first-child::after {align-self: flex-end;width: 50%;}#sk-container-id-2 div.sk-parallel-item:last-child::after {align-self: flex-start;width: 50%;}#sk-container-id-2 div.sk-parallel-item:only-child::after {width: 0;}#sk-container-id-2 div.sk-dashed-wrapped {border: 1px dashed gray;margin: 0 0.4em 0.5em 0.4em;box-sizing: border-box;padding-bottom: 0.4em;background-color: white;}#sk-container-id-2 div.sk-label label {font-family: monospace;font-weight: bold;display: inline-block;line-height: 1.2em;}#sk-container-id-2 div.sk-label-container {text-align: center;}#sk-container-id-2 div.sk-container {/* jupyter's `normalize.less` sets `[hidden] { display: none; }` but bootstrap.min.css set `[hidden] { display: none !important; }` so we also need the `!important` here to be able to override the default hidden behavior on the sphinx rendered scikit-learn.org. See: https://github.com/scikit-learn/scikit-learn/issues/21755 */display: inline-block !important;position: relative;}#sk-container-id-2 div.sk-text-repr-fallback {display: none;}</style><div id=\"sk-container-id-2\" class=\"sk-top-container\"><div class=\"sk-text-repr-fallback\"><pre>AdaBoostClassifier(estimator=DecisionTreeClassifier(max_depth=3),\n",
       "                   learning_rate=0.1, n_estimators=200)</pre><b>In a Jupyter environment, please rerun this cell to show the HTML representation or trust the notebook. <br />On GitHub, the HTML representation is unable to render, please try loading this page with nbviewer.org.</b></div><div class=\"sk-container\" hidden><div class=\"sk-item sk-dashed-wrapped\"><div class=\"sk-label-container\"><div class=\"sk-label sk-toggleable\"><input class=\"sk-toggleable__control sk-hidden--visually\" id=\"sk-estimator-id-4\" type=\"checkbox\" ><label for=\"sk-estimator-id-4\" class=\"sk-toggleable__label sk-toggleable__label-arrow\">AdaBoostClassifier</label><div class=\"sk-toggleable__content\"><pre>AdaBoostClassifier(estimator=DecisionTreeClassifier(max_depth=3),\n",
       "                   learning_rate=0.1, n_estimators=200)</pre></div></div></div><div class=\"sk-parallel\"><div class=\"sk-parallel-item\"><div class=\"sk-item\"><div class=\"sk-label-container\"><div class=\"sk-label sk-toggleable\"><input class=\"sk-toggleable__control sk-hidden--visually\" id=\"sk-estimator-id-5\" type=\"checkbox\" ><label for=\"sk-estimator-id-5\" class=\"sk-toggleable__label sk-toggleable__label-arrow\">estimator: DecisionTreeClassifier</label><div class=\"sk-toggleable__content\"><pre>DecisionTreeClassifier(max_depth=3)</pre></div></div></div><div class=\"sk-serial\"><div class=\"sk-item\"><div class=\"sk-estimator sk-toggleable\"><input class=\"sk-toggleable__control sk-hidden--visually\" id=\"sk-estimator-id-6\" type=\"checkbox\" ><label for=\"sk-estimator-id-6\" class=\"sk-toggleable__label sk-toggleable__label-arrow\">DecisionTreeClassifier</label><div class=\"sk-toggleable__content\"><pre>DecisionTreeClassifier(max_depth=3)</pre></div></div></div></div></div></div></div></div></div></div>"
      ],
      "text/plain": [
       "AdaBoostClassifier(estimator=DecisionTreeClassifier(max_depth=3),\n",
       "                   learning_rate=0.1, n_estimators=200)"
      ]
     },
     "execution_count": 23,
     "metadata": {},
     "output_type": "execute_result"
    }
   ],
   "source": [
    "best_lr = LogisticRegression(**grid_search_logistic.best_params_)\n",
    "best_rf = RandomForestClassifier(**random_search_random_forest.best_params_)\n",
    "best_svm = SVC(**grid_search_svm.best_params_)\n",
    "best_ab = AdaBoostClassifier(**grid_search_ab.best_params_)\n",
    "\n",
    "best_lr.fit(X_train, y_train)\n",
    "best_rf.fit(X_train, y_train)\n",
    "best_svm.fit(X_train, y_train)\n",
    "best_ab.fit(X_train, y_train)"
   ]
  },
  {
   "cell_type": "markdown",
   "id": "9534a262",
   "metadata": {
    "papermill": {
     "duration": 0.012568,
     "end_time": "2024-12-09T14:51:57.756606",
     "exception": false,
     "start_time": "2024-12-09T14:51:57.744038",
     "status": "completed"
    },
    "tags": []
   },
   "source": [
    "## Model Evaluation"
   ]
  },
  {
   "cell_type": "markdown",
   "id": "bb207c7d",
   "metadata": {
    "papermill": {
     "duration": 0.012622,
     "end_time": "2024-12-09T14:51:57.782057",
     "exception": false,
     "start_time": "2024-12-09T14:51:57.769435",
     "status": "completed"
    },
    "tags": []
   },
   "source": [
    "### Validation set classification and metrics calculation"
   ]
  },
  {
   "cell_type": "code",
   "execution_count": 24,
   "id": "f4144763",
   "metadata": {
    "execution": {
     "iopub.execute_input": "2024-12-09T14:51:57.809451Z",
     "iopub.status.busy": "2024-12-09T14:51:57.809057Z",
     "iopub.status.idle": "2024-12-09T14:52:02.315293Z",
     "shell.execute_reply": "2024-12-09T14:52:02.314182Z"
    },
    "papermill": {
     "duration": 4.52305,
     "end_time": "2024-12-09T14:52:02.317903",
     "exception": false,
     "start_time": "2024-12-09T14:51:57.794853",
     "status": "completed"
    },
    "tags": []
   },
   "outputs": [],
   "source": [
    "models = {\n",
    "    'Logistic Regression': best_lr,\n",
    "    'Random Forest': best_rf,\n",
    "    'SVC': best_svm,\n",
    "    'AdaBoost': best_ab\n",
    "}\n",
    "\n",
    "# Evaluate each model\n",
    "results = {}\n",
    "for name, model in models.items():\n",
    "    y_pred = model.predict(X_val)\n",
    "    accuracy = accuracy_score(y_val, y_pred)\n",
    "    report = classification_report(y_val, y_pred, output_dict=True)\n",
    "    conf_matrix = confusion_matrix(y_val, y_pred)\n",
    "    results[name] = {\n",
    "        'accuracy': accuracy,\n",
    "        'report': report,\n",
    "        'conf_matrix': conf_matrix\n",
    "    }"
   ]
  },
  {
   "cell_type": "markdown",
   "id": "38df5b65",
   "metadata": {
    "papermill": {
     "duration": 0.015372,
     "end_time": "2024-12-09T14:52:02.346417",
     "exception": false,
     "start_time": "2024-12-09T14:52:02.331045",
     "status": "completed"
    },
    "tags": []
   },
   "source": [
    "### Confusion Matrix Plot"
   ]
  },
  {
   "cell_type": "code",
   "execution_count": 25,
   "id": "3725368c",
   "metadata": {
    "execution": {
     "iopub.execute_input": "2024-12-09T14:52:02.374675Z",
     "iopub.status.busy": "2024-12-09T14:52:02.374224Z",
     "iopub.status.idle": "2024-12-09T14:52:03.819484Z",
     "shell.execute_reply": "2024-12-09T14:52:03.818342Z"
    },
    "papermill": {
     "duration": 1.462869,
     "end_time": "2024-12-09T14:52:03.822627",
     "exception": false,
     "start_time": "2024-12-09T14:52:02.359758",
     "status": "completed"
    },
    "tags": []
   },
   "outputs": [
    {
     "data": {
      "image/png": "[encoded data removed]",
      "text/plain": [
       "<Figure size 1400x1000 with 8 Axes>"
      ]
     },
     "metadata": {},
     "output_type": "display_data"
    }
   ],
   "source": [
    "fig, axes = plt.subplots(2, 2, figsize=(14, 10))\n",
    "axes = axes.flatten()\n",
    "\n",
    "for ax, (name, result) in zip(axes, results.items()):\n",
    "    sns.heatmap(result['conf_matrix'], annot=True, fmt='d', cmap='Blues', ax=ax)\n",
    "    ax.set_title(f'{name} Confusion Matrix')\n",
    "    ax.set_xlabel('Predicted')\n",
    "    ax.set_ylabel('Actual')\n",
    "\n",
    "plt.tight_layout()\n",
    "plt.show()"
   ]
  },
  {
   "cell_type": "markdown",
   "id": "cbdaaba9",
   "metadata": {
    "papermill": {
     "duration": 0.01486,
     "end_time": "2024-12-09T14:52:03.852562",
     "exception": false,
     "start_time": "2024-12-09T14:52:03.837702",
     "status": "completed"
    },
    "tags": []
   },
   "source": [
    "Based on the confusion matrices, it is noticeable that some models are better at classifying one label compared to others. RandomForest, for example, is the one that most accurately classifies label 0, while AdaBoost is the one that most accurately classifies label 1. However, since the difference in accuracy is not very large between the models, this comparison alone is not decisive in choosing the best one."
   ]
  },
  {
   "cell_type": "markdown",
   "id": "6f97a6b7",
   "metadata": {
    "papermill": {
     "duration": 0.014516,
     "end_time": "2024-12-09T14:52:03.881726",
     "exception": false,
     "start_time": "2024-12-09T14:52:03.867210",
     "status": "completed"
    },
    "tags": []
   },
   "source": [
    "### Comparison of performance metrics"
   ]
  },
  {
   "cell_type": "code",
   "execution_count": 26,
   "id": "db7c28ee",
   "metadata": {
    "execution": {
     "iopub.execute_input": "2024-12-09T14:52:03.912515Z",
     "iopub.status.busy": "2024-12-09T14:52:03.912102Z",
     "iopub.status.idle": "2024-12-09T14:52:04.733001Z",
     "shell.execute_reply": "2024-12-09T14:52:04.731810Z"
    },
    "papermill": {
     "duration": 0.839467,
     "end_time": "2024-12-09T14:52:04.735673",
     "exception": false,
     "start_time": "2024-12-09T14:52:03.896206",
     "status": "completed"
    },
    "tags": []
   },
   "outputs": [
    {
     "name": "stderr",
     "output_type": "stream",
     "text": [
      "/tmp/ipykernel_17/2620872714.py:16: UserWarning: FixedFormatter should only be used together with FixedLocator\n",
      "  ax.set_xticklabels(metric_values.keys(), rotation=0)\n"
     ]
    },
    {
     "data": {
      "image/png": "[encoded data removed]",
      "text/plain": [
       "<Figure size 1400x1000 with 4 Axes>"
      ]
     },
     "metadata": {},
     "output_type": "display_data"
    }
   ],
   "source": [
    "# Compare accuracy, precision, recall, and f1-score using subplots\n",
    "metrics = ['accuracy', 'precision', 'recall', 'f1-score']\n",
    "colors = ['#1f77b4', '#ff7f0e', '#2ca02c', '#d62728']  # Custom colors for the bars\n",
    "fig, axes = plt.subplots(2, 2, figsize=(14, 10))\n",
    "axes = axes.flatten()\n",
    "\n",
    "for ax, metric in zip(axes, metrics):\n",
    "    if metric == 'accuracy':\n",
    "        metric_values = {name: result[metric] for name, result in results.items()}\n",
    "    else:\n",
    "        metric_values = {name: result['report']['weighted avg'][metric] for name, result in results.items()}\n",
    "    \n",
    "    bars = ax.bar(metric_values.keys(), metric_values.values(), color=colors)\n",
    "    ax.set_title(f'Model {metric.capitalize()} Comparison')\n",
    "    ax.set_ylabel(metric.capitalize())\n",
    "    ax.set_xticklabels(metric_values.keys(), rotation=0)\n",
    "    \n",
    "    # Add value labels on top of the bars\n",
    "    for bar in bars:\n",
    "        yval = bar.get_height()\n",
    "        ax.text(bar.get_x() + bar.get_width()/2, yval + 0.001, round(yval, 3), ha='center', va='bottom')\n",
    "    \n",
    "    # Adjust y-axis limits to highlight differences\n",
    "    ax.set_ylim([min(metric_values.values()) - 0.01, max(metric_values.values()) + 0.01])\n",
    "\n",
    "plt.tight_layout()\n",
    "plt.show()"
   ]
  },
  {
   "cell_type": "markdown",
   "id": "5e126d58",
   "metadata": {
    "execution": {
     "iopub.execute_input": "2024-12-09T13:56:03.430112Z",
     "iopub.status.busy": "2024-12-09T13:56:03.429634Z",
     "iopub.status.idle": "2024-12-09T13:56:03.438569Z",
     "shell.execute_reply": "2024-12-09T13:56:03.436887Z",
     "shell.execute_reply.started": "2024-12-09T13:56:03.430075Z"
    },
    "papermill": {
     "duration": 0.015723,
     "end_time": "2024-12-09T14:52:04.767756",
     "exception": false,
     "start_time": "2024-12-09T14:52:04.752033",
     "status": "completed"
    },
    "tags": []
   },
   "source": [
    "Here we see more concrete metrics that highlight the differences between the models. In general, the comparison of their performances follows the same pattern for the different metrics, models with a single classifier perform worse than those that take advantage of multiple classifiers, that is, Random Forest and AdaBoost are considered the best."
   ]
  },
  {
   "cell_type": "markdown",
   "id": "0778af25",
   "metadata": {
    "papermill": {
     "duration": 0.015849,
     "end_time": "2024-12-09T14:52:04.799554",
     "exception": false,
     "start_time": "2024-12-09T14:52:04.783705",
     "status": "completed"
    },
    "tags": []
   },
   "source": [
    "# 4 - Results"
   ]
  },
  {
   "cell_type": "code",
   "execution_count": 27,
   "id": "b921d353",
   "metadata": {
    "execution": {
     "iopub.execute_input": "2024-12-09T14:52:04.833815Z",
     "iopub.status.busy": "2024-12-09T14:52:04.833420Z",
     "iopub.status.idle": "2024-12-09T14:52:16.645266Z",
     "shell.execute_reply": "2024-12-09T14:52:16.644261Z"
    },
    "papermill": {
     "duration": 11.831445,
     "end_time": "2024-12-09T14:52:16.647388",
     "exception": false,
     "start_time": "2024-12-09T14:52:04.815943",
     "status": "completed"
    },
    "tags": []
   },
   "outputs": [
    {
     "data": {
      "text/html": [
       "<div>\n",
       "<style scoped>\n",
       "    .dataframe tbody tr th:only-of-type {\n",
       "        vertical-align: middle;\n",
       "    }\n",
       "\n",
       "    .dataframe tbody tr th {\n",
       "        vertical-align: top;\n",
       "    }\n",
       "\n",
       "    .dataframe thead th {\n",
       "        text-align: right;\n",
       "    }\n",
       "</style>\n",
       "<table border=\"1\" class=\"dataframe\">\n",
       "  <thead>\n",
       "    <tr style=\"text-align: right;\">\n",
       "      <th></th>\n",
       "      <th>Id</th>\n",
       "      <th>income</th>\n",
       "    </tr>\n",
       "  </thead>\n",
       "  <tbody>\n",
       "    <tr>\n",
       "      <th>0</th>\n",
       "      <td>0</td>\n",
       "      <td>&lt;=50K</td>\n",
       "    </tr>\n",
       "    <tr>\n",
       "      <th>1</th>\n",
       "      <td>1</td>\n",
       "      <td>&gt;50K</td>\n",
       "    </tr>\n",
       "    <tr>\n",
       "      <th>2</th>\n",
       "      <td>2</td>\n",
       "      <td>&lt;=50K</td>\n",
       "    </tr>\n",
       "    <tr>\n",
       "      <th>3</th>\n",
       "      <td>3</td>\n",
       "      <td>&lt;=50K</td>\n",
       "    </tr>\n",
       "    <tr>\n",
       "      <th>4</th>\n",
       "      <td>4</td>\n",
       "      <td>&gt;50K</td>\n",
       "    </tr>\n",
       "  </tbody>\n",
       "</table>\n",
       "</div>"
      ],
      "text/plain": [
       "   Id income\n",
       "0   0  <=50K\n",
       "1   1   >50K\n",
       "2   2  <=50K\n",
       "3   3  <=50K\n",
       "4   4   >50K"
      ]
     },
     "execution_count": 27,
     "metadata": {},
     "output_type": "execute_result"
    }
   ],
   "source": [
    "best_model = AdaBoostClassifier(**grid_search_ab.best_params_)\n",
    "best_model.fit(X_all, y_all)\n",
    "\n",
    "y_pred = best_model.predict(X_test)\n",
    "y_pred = np.where(y_pred == 1, '>50K', '<=50K')\n",
    "df_result = pd.DataFrame(({'Id':ids, 'income':y_pred}))\n",
    "df_result.head()"
   ]
  },
  {
   "cell_type": "code",
   "execution_count": 28,
   "id": "799ae05f",
   "metadata": {
    "execution": {
     "iopub.execute_input": "2024-12-09T14:52:16.682108Z",
     "iopub.status.busy": "2024-12-09T14:52:16.681713Z",
     "iopub.status.idle": "2024-12-09T14:52:16.703284Z",
     "shell.execute_reply": "2024-12-09T14:52:16.702260Z"
    },
    "papermill": {
     "duration": 0.041483,
     "end_time": "2024-12-09T14:52:16.705756",
     "exception": false,
     "start_time": "2024-12-09T14:52:16.664273",
     "status": "completed"
    },
    "tags": []
   },
   "outputs": [],
   "source": [
    "df_result.to_csv(\"submission.csv\",index=False)"
   ]
  }
 ],
 "metadata": {
  "kaggle": {
   "accelerator": "none",
   "dataSources": [
    {
     "databundleVersionId": 685952,
     "sourceId": 15924,
     "sourceType": "competition"
    }
   ],
   "dockerImageVersionId": 30804,
   "isGpuEnabled": false,
   "isInternetEnabled": false,
   "language": "python",
   "sourceType": "notebook"
  },
  "kernelspec": {
   "display_name": "Python 3",
   "language": "python",
   "name": "python3"
  },
  "language_info": {
   "codemirror_mode": {
    "name": "ipython",
    "version": 3
   },
   "file_extension": ".py",
   "mimetype": "text/x-python",
   "name": "python",
   "nbconvert_exporter": "python",
   "pygments_lexer": "ipython3",
   "version": "3.10.14"
  },
  "papermill": {
   "default_parameters": {},
   "duration": 3198.923723,
   "end_time": "2024-12-09T14:52:19.341657",
   "environment_variables": {},
   "exception": null,
   "input_path": "__notebook__.ipynb",
   "output_path": "__notebook__.ipynb",
   "parameters": {},
   "start_time": "2024-12-09T13:59:00.417934",
   "version": "2.6.0"
  }
 },
 "nbformat": 4,
 "nbformat_minor": 5
}
